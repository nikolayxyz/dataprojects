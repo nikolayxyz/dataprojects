{
 "cells": [
  {
   "cell_type": "markdown",
   "metadata": {},
   "source": [
    "---\n",
    "\n",
    "### Комментарий наставника\n",
    "\n",
    "Привет, Николай!\n",
    "\n",
    "Спасибо за проделанную работу. Все комментарии увидишь по ходу работы.\n",
    "\n",
    "---"
   ]
  },
  {
   "cell_type": "markdown",
   "metadata": {},
   "source": [
    "### Цель исследования "
   ]
  },
  {
   "cell_type": "markdown",
   "metadata": {},
   "source": [
    "Сервис \"Нупозвони\" разрабатывает новый функционал, который будет выдавать руководителю информацию о наиболее неэффективных операторах. Неэффективными операторами считаются те, у которых большое число пропущенных входящих вызовов (внутренних и внешних), а также высокое время ожидания ответа при входящих вызовах.<br>"
   ]
  },
  {
   "cell_type": "markdown",
   "metadata": {},
   "source": [
    "### Загрузка, первичный осмотр и предобработка данных"
   ]
  },
  {
   "cell_type": "code",
   "execution_count": 1,
   "metadata": {},
   "outputs": [],
   "source": [
    "import pandas as pd"
   ]
  },
  {
   "cell_type": "code",
   "execution_count": 2,
   "metadata": {},
   "outputs": [],
   "source": [
    "telecom_dataset=pd.read_csv('telecom_dataset.csv')"
   ]
  },
  {
   "cell_type": "code",
   "execution_count": 3,
   "metadata": {},
   "outputs": [],
   "source": [
    "telecom_clients=pd.read_csv('telecom_clients.csv')"
   ]
  },
  {
   "cell_type": "code",
   "execution_count": 4,
   "metadata": {
    "scrolled": true
   },
   "outputs": [
    {
     "data": {
      "text/html": [
       "<div>\n",
       "<style scoped>\n",
       "    .dataframe tbody tr th:only-of-type {\n",
       "        vertical-align: middle;\n",
       "    }\n",
       "\n",
       "    .dataframe tbody tr th {\n",
       "        vertical-align: top;\n",
       "    }\n",
       "\n",
       "    .dataframe thead th {\n",
       "        text-align: right;\n",
       "    }\n",
       "</style>\n",
       "<table border=\"1\" class=\"dataframe\">\n",
       "  <thead>\n",
       "    <tr style=\"text-align: right;\">\n",
       "      <th></th>\n",
       "      <th>user_id</th>\n",
       "      <th>date</th>\n",
       "      <th>direction</th>\n",
       "      <th>internal</th>\n",
       "      <th>operator_id</th>\n",
       "      <th>is_missed_call</th>\n",
       "      <th>calls_count</th>\n",
       "      <th>call_duration</th>\n",
       "      <th>total_call_duration</th>\n",
       "    </tr>\n",
       "  </thead>\n",
       "  <tbody>\n",
       "    <tr>\n",
       "      <th>0</th>\n",
       "      <td>166377</td>\n",
       "      <td>2019-08-04 00:00:00+03:00</td>\n",
       "      <td>in</td>\n",
       "      <td>False</td>\n",
       "      <td>NaN</td>\n",
       "      <td>True</td>\n",
       "      <td>2</td>\n",
       "      <td>0</td>\n",
       "      <td>4</td>\n",
       "    </tr>\n",
       "    <tr>\n",
       "      <th>1</th>\n",
       "      <td>166377</td>\n",
       "      <td>2019-08-05 00:00:00+03:00</td>\n",
       "      <td>out</td>\n",
       "      <td>True</td>\n",
       "      <td>880022.0</td>\n",
       "      <td>True</td>\n",
       "      <td>3</td>\n",
       "      <td>0</td>\n",
       "      <td>5</td>\n",
       "    </tr>\n",
       "    <tr>\n",
       "      <th>2</th>\n",
       "      <td>166377</td>\n",
       "      <td>2019-08-05 00:00:00+03:00</td>\n",
       "      <td>out</td>\n",
       "      <td>True</td>\n",
       "      <td>880020.0</td>\n",
       "      <td>True</td>\n",
       "      <td>1</td>\n",
       "      <td>0</td>\n",
       "      <td>1</td>\n",
       "    </tr>\n",
       "    <tr>\n",
       "      <th>3</th>\n",
       "      <td>166377</td>\n",
       "      <td>2019-08-05 00:00:00+03:00</td>\n",
       "      <td>out</td>\n",
       "      <td>True</td>\n",
       "      <td>880020.0</td>\n",
       "      <td>False</td>\n",
       "      <td>1</td>\n",
       "      <td>10</td>\n",
       "      <td>18</td>\n",
       "    </tr>\n",
       "    <tr>\n",
       "      <th>4</th>\n",
       "      <td>166377</td>\n",
       "      <td>2019-08-05 00:00:00+03:00</td>\n",
       "      <td>out</td>\n",
       "      <td>False</td>\n",
       "      <td>880022.0</td>\n",
       "      <td>True</td>\n",
       "      <td>3</td>\n",
       "      <td>0</td>\n",
       "      <td>25</td>\n",
       "    </tr>\n",
       "  </tbody>\n",
       "</table>\n",
       "</div>"
      ],
      "text/plain": [
       "   user_id                       date direction internal  operator_id  \\\n",
       "0   166377  2019-08-04 00:00:00+03:00        in    False          NaN   \n",
       "1   166377  2019-08-05 00:00:00+03:00       out     True     880022.0   \n",
       "2   166377  2019-08-05 00:00:00+03:00       out     True     880020.0   \n",
       "3   166377  2019-08-05 00:00:00+03:00       out     True     880020.0   \n",
       "4   166377  2019-08-05 00:00:00+03:00       out    False     880022.0   \n",
       "\n",
       "   is_missed_call  calls_count  call_duration  total_call_duration  \n",
       "0            True            2              0                    4  \n",
       "1            True            3              0                    5  \n",
       "2            True            1              0                    1  \n",
       "3           False            1             10                   18  \n",
       "4            True            3              0                   25  "
      ]
     },
     "execution_count": 4,
     "metadata": {},
     "output_type": "execute_result"
    }
   ],
   "source": [
    "telecom_dataset.head()"
   ]
  },
  {
   "cell_type": "code",
   "execution_count": 5,
   "metadata": {
    "scrolled": true
   },
   "outputs": [
    {
     "name": "stdout",
     "output_type": "stream",
     "text": [
      "<class 'pandas.core.frame.DataFrame'>\n",
      "RangeIndex: 53902 entries, 0 to 53901\n",
      "Data columns (total 9 columns):\n",
      " #   Column               Non-Null Count  Dtype  \n",
      "---  ------               --------------  -----  \n",
      " 0   user_id              53902 non-null  int64  \n",
      " 1   date                 53902 non-null  object \n",
      " 2   direction            53902 non-null  object \n",
      " 3   internal             53785 non-null  object \n",
      " 4   operator_id          45730 non-null  float64\n",
      " 5   is_missed_call       53902 non-null  bool   \n",
      " 6   calls_count          53902 non-null  int64  \n",
      " 7   call_duration        53902 non-null  int64  \n",
      " 8   total_call_duration  53902 non-null  int64  \n",
      "dtypes: bool(1), float64(1), int64(4), object(3)\n",
      "memory usage: 3.3+ MB\n"
     ]
    }
   ],
   "source": [
    "telecom_dataset.info()"
   ]
  },
  {
   "cell_type": "code",
   "execution_count": 6,
   "metadata": {
    "scrolled": false
   },
   "outputs": [
    {
     "data": {
      "text/plain": [
       "user_id                   0\n",
       "date                      0\n",
       "direction                 0\n",
       "internal                117\n",
       "operator_id            8172\n",
       "is_missed_call            0\n",
       "calls_count               0\n",
       "call_duration             0\n",
       "total_call_duration       0\n",
       "dtype: int64"
      ]
     },
     "execution_count": 6,
     "metadata": {},
     "output_type": "execute_result"
    }
   ],
   "source": [
    "telecom_dataset.isnull().sum()"
   ]
  },
  {
   "cell_type": "markdown",
   "metadata": {},
   "source": [
    "Всех операторов с пропущенными айди удалим."
   ]
  },
  {
   "cell_type": "markdown",
   "metadata": {},
   "source": [
    "---\n",
    "\n",
    "### Комментарий наставника\n",
    "\n",
    "Конечно, эти значения не имеют смысла для нас :) \n",
    "\n",
    "---"
   ]
  },
  {
   "cell_type": "code",
   "execution_count": 7,
   "metadata": {},
   "outputs": [],
   "source": [
    "telecom_dataset.dropna(subset=['operator_id'],inplace=True)"
   ]
  },
  {
   "cell_type": "code",
   "execution_count": 8,
   "metadata": {
    "scrolled": true
   },
   "outputs": [
    {
     "name": "stdout",
     "output_type": "stream",
     "text": [
      "<class 'pandas.core.frame.DataFrame'>\n",
      "Int64Index: 45730 entries, 1 to 53900\n",
      "Data columns (total 9 columns):\n",
      " #   Column               Non-Null Count  Dtype  \n",
      "---  ------               --------------  -----  \n",
      " 0   user_id              45730 non-null  int64  \n",
      " 1   date                 45730 non-null  object \n",
      " 2   direction            45730 non-null  object \n",
      " 3   internal             45670 non-null  object \n",
      " 4   operator_id          45730 non-null  float64\n",
      " 5   is_missed_call       45730 non-null  bool   \n",
      " 6   calls_count          45730 non-null  int64  \n",
      " 7   call_duration        45730 non-null  int64  \n",
      " 8   total_call_duration  45730 non-null  int64  \n",
      "dtypes: bool(1), float64(1), int64(4), object(3)\n",
      "memory usage: 3.2+ MB\n"
     ]
    }
   ],
   "source": [
    "telecom_dataset.info()"
   ]
  },
  {
   "cell_type": "code",
   "execution_count": 9,
   "metadata": {
    "scrolled": true
   },
   "outputs": [
    {
     "data": {
      "text/plain": [
       "user_id                 0\n",
       "date                    0\n",
       "direction               0\n",
       "internal               60\n",
       "operator_id             0\n",
       "is_missed_call          0\n",
       "calls_count             0\n",
       "call_duration           0\n",
       "total_call_duration     0\n",
       "dtype: int64"
      ]
     },
     "execution_count": 9,
     "metadata": {},
     "output_type": "execute_result"
    }
   ],
   "source": [
    "telecom_dataset.isnull().sum()"
   ]
  },
  {
   "cell_type": "code",
   "execution_count": 10,
   "metadata": {
    "scrolled": true
   },
   "outputs": [
    {
     "data": {
      "text/html": [
       "<div>\n",
       "<style scoped>\n",
       "    .dataframe tbody tr th:only-of-type {\n",
       "        vertical-align: middle;\n",
       "    }\n",
       "\n",
       "    .dataframe tbody tr th {\n",
       "        vertical-align: top;\n",
       "    }\n",
       "\n",
       "    .dataframe thead th {\n",
       "        text-align: right;\n",
       "    }\n",
       "</style>\n",
       "<table border=\"1\" class=\"dataframe\">\n",
       "  <thead>\n",
       "    <tr style=\"text-align: right;\">\n",
       "      <th></th>\n",
       "      <th>user_id</th>\n",
       "      <th>date</th>\n",
       "      <th>direction</th>\n",
       "      <th>internal</th>\n",
       "      <th>operator_id</th>\n",
       "      <th>is_missed_call</th>\n",
       "      <th>calls_count</th>\n",
       "      <th>call_duration</th>\n",
       "      <th>total_call_duration</th>\n",
       "    </tr>\n",
       "  </thead>\n",
       "  <tbody>\n",
       "    <tr>\n",
       "      <th>1924</th>\n",
       "      <td>166406</td>\n",
       "      <td>2019-09-02 00:00:00+03:00</td>\n",
       "      <td>in</td>\n",
       "      <td>NaN</td>\n",
       "      <td>879898.0</td>\n",
       "      <td>False</td>\n",
       "      <td>1</td>\n",
       "      <td>2</td>\n",
       "      <td>9</td>\n",
       "    </tr>\n",
       "    <tr>\n",
       "      <th>6210</th>\n",
       "      <td>166541</td>\n",
       "      <td>2019-09-26 00:00:00+03:00</td>\n",
       "      <td>in</td>\n",
       "      <td>NaN</td>\n",
       "      <td>908960.0</td>\n",
       "      <td>False</td>\n",
       "      <td>1</td>\n",
       "      <td>393</td>\n",
       "      <td>423</td>\n",
       "    </tr>\n",
       "    <tr>\n",
       "      <th>6216</th>\n",
       "      <td>166541</td>\n",
       "      <td>2019-09-26 00:00:00+03:00</td>\n",
       "      <td>in</td>\n",
       "      <td>NaN</td>\n",
       "      <td>908958.0</td>\n",
       "      <td>False</td>\n",
       "      <td>2</td>\n",
       "      <td>547</td>\n",
       "      <td>612</td>\n",
       "    </tr>\n",
       "    <tr>\n",
       "      <th>7528</th>\n",
       "      <td>166604</td>\n",
       "      <td>2019-11-01 00:00:00+03:00</td>\n",
       "      <td>in</td>\n",
       "      <td>NaN</td>\n",
       "      <td>893402.0</td>\n",
       "      <td>False</td>\n",
       "      <td>1</td>\n",
       "      <td>94</td>\n",
       "      <td>117</td>\n",
       "    </tr>\n",
       "    <tr>\n",
       "      <th>8650</th>\n",
       "      <td>166658</td>\n",
       "      <td>2019-09-24 00:00:00+03:00</td>\n",
       "      <td>in</td>\n",
       "      <td>NaN</td>\n",
       "      <td>890404.0</td>\n",
       "      <td>False</td>\n",
       "      <td>1</td>\n",
       "      <td>150</td>\n",
       "      <td>157</td>\n",
       "    </tr>\n",
       "    <tr>\n",
       "      <th>9080</th>\n",
       "      <td>166658</td>\n",
       "      <td>2019-10-15 00:00:00+03:00</td>\n",
       "      <td>in</td>\n",
       "      <td>NaN</td>\n",
       "      <td>890404.0</td>\n",
       "      <td>False</td>\n",
       "      <td>1</td>\n",
       "      <td>51</td>\n",
       "      <td>57</td>\n",
       "    </tr>\n",
       "    <tr>\n",
       "      <th>16180</th>\n",
       "      <td>166916</td>\n",
       "      <td>2019-10-01 00:00:00+03:00</td>\n",
       "      <td>in</td>\n",
       "      <td>NaN</td>\n",
       "      <td>906396.0</td>\n",
       "      <td>False</td>\n",
       "      <td>1</td>\n",
       "      <td>100</td>\n",
       "      <td>117</td>\n",
       "    </tr>\n",
       "    <tr>\n",
       "      <th>16304</th>\n",
       "      <td>166916</td>\n",
       "      <td>2019-10-07 00:00:00+03:00</td>\n",
       "      <td>in</td>\n",
       "      <td>NaN</td>\n",
       "      <td>906406.0</td>\n",
       "      <td>False</td>\n",
       "      <td>3</td>\n",
       "      <td>378</td>\n",
       "      <td>461</td>\n",
       "    </tr>\n",
       "    <tr>\n",
       "      <th>16569</th>\n",
       "      <td>166916</td>\n",
       "      <td>2019-10-23 00:00:00+03:00</td>\n",
       "      <td>in</td>\n",
       "      <td>NaN</td>\n",
       "      <td>906400.0</td>\n",
       "      <td>False</td>\n",
       "      <td>1</td>\n",
       "      <td>81</td>\n",
       "      <td>110</td>\n",
       "    </tr>\n",
       "    <tr>\n",
       "      <th>18647</th>\n",
       "      <td>166983</td>\n",
       "      <td>2019-09-02 00:00:00+03:00</td>\n",
       "      <td>in</td>\n",
       "      <td>NaN</td>\n",
       "      <td>901880.0</td>\n",
       "      <td>False</td>\n",
       "      <td>1</td>\n",
       "      <td>119</td>\n",
       "      <td>127</td>\n",
       "    </tr>\n",
       "    <tr>\n",
       "      <th>19497</th>\n",
       "      <td>166983</td>\n",
       "      <td>2019-11-14 00:00:00+03:00</td>\n",
       "      <td>in</td>\n",
       "      <td>NaN</td>\n",
       "      <td>901880.0</td>\n",
       "      <td>False</td>\n",
       "      <td>1</td>\n",
       "      <td>208</td>\n",
       "      <td>210</td>\n",
       "    </tr>\n",
       "    <tr>\n",
       "      <th>19970</th>\n",
       "      <td>166997</td>\n",
       "      <td>2019-09-21 00:00:00+03:00</td>\n",
       "      <td>in</td>\n",
       "      <td>NaN</td>\n",
       "      <td>903312.0</td>\n",
       "      <td>False</td>\n",
       "      <td>1</td>\n",
       "      <td>91</td>\n",
       "      <td>107</td>\n",
       "    </tr>\n",
       "    <tr>\n",
       "      <th>20078</th>\n",
       "      <td>166997</td>\n",
       "      <td>2019-10-01 00:00:00+03:00</td>\n",
       "      <td>in</td>\n",
       "      <td>NaN</td>\n",
       "      <td>905432.0</td>\n",
       "      <td>False</td>\n",
       "      <td>1</td>\n",
       "      <td>159</td>\n",
       "      <td>164</td>\n",
       "    </tr>\n",
       "    <tr>\n",
       "      <th>20168</th>\n",
       "      <td>166997</td>\n",
       "      <td>2019-10-13 00:00:00+03:00</td>\n",
       "      <td>in</td>\n",
       "      <td>NaN</td>\n",
       "      <td>903312.0</td>\n",
       "      <td>False</td>\n",
       "      <td>1</td>\n",
       "      <td>78</td>\n",
       "      <td>82</td>\n",
       "    </tr>\n",
       "    <tr>\n",
       "      <th>21716</th>\n",
       "      <td>167035</td>\n",
       "      <td>2019-11-17 00:00:00+03:00</td>\n",
       "      <td>in</td>\n",
       "      <td>NaN</td>\n",
       "      <td>923526.0</td>\n",
       "      <td>False</td>\n",
       "      <td>1</td>\n",
       "      <td>68</td>\n",
       "      <td>77</td>\n",
       "    </tr>\n",
       "    <tr>\n",
       "      <th>23183</th>\n",
       "      <td>167078</td>\n",
       "      <td>2019-11-13 00:00:00+03:00</td>\n",
       "      <td>in</td>\n",
       "      <td>NaN</td>\n",
       "      <td>935348.0</td>\n",
       "      <td>False</td>\n",
       "      <td>2</td>\n",
       "      <td>73</td>\n",
       "      <td>84</td>\n",
       "    </tr>\n",
       "    <tr>\n",
       "      <th>23822</th>\n",
       "      <td>167109</td>\n",
       "      <td>2019-09-25 00:00:00+03:00</td>\n",
       "      <td>in</td>\n",
       "      <td>NaN</td>\n",
       "      <td>906294.0</td>\n",
       "      <td>False</td>\n",
       "      <td>1</td>\n",
       "      <td>23</td>\n",
       "      <td>27</td>\n",
       "    </tr>\n",
       "    <tr>\n",
       "      <th>29569</th>\n",
       "      <td>167246</td>\n",
       "      <td>2019-10-18 00:00:00+03:00</td>\n",
       "      <td>in</td>\n",
       "      <td>NaN</td>\n",
       "      <td>908082.0</td>\n",
       "      <td>False</td>\n",
       "      <td>1</td>\n",
       "      <td>7</td>\n",
       "      <td>21</td>\n",
       "    </tr>\n",
       "    <tr>\n",
       "      <th>29571</th>\n",
       "      <td>167246</td>\n",
       "      <td>2019-10-18 00:00:00+03:00</td>\n",
       "      <td>in</td>\n",
       "      <td>NaN</td>\n",
       "      <td>908082.0</td>\n",
       "      <td>False</td>\n",
       "      <td>1</td>\n",
       "      <td>7</td>\n",
       "      <td>21</td>\n",
       "    </tr>\n",
       "    <tr>\n",
       "      <th>29741</th>\n",
       "      <td>167264</td>\n",
       "      <td>2019-10-14 00:00:00+03:00</td>\n",
       "      <td>in</td>\n",
       "      <td>NaN</td>\n",
       "      <td>919554.0</td>\n",
       "      <td>False</td>\n",
       "      <td>1</td>\n",
       "      <td>202</td>\n",
       "      <td>243</td>\n",
       "    </tr>\n",
       "    <tr>\n",
       "      <th>29887</th>\n",
       "      <td>167264</td>\n",
       "      <td>2019-11-15 00:00:00+03:00</td>\n",
       "      <td>in</td>\n",
       "      <td>NaN</td>\n",
       "      <td>919552.0</td>\n",
       "      <td>False</td>\n",
       "      <td>1</td>\n",
       "      <td>125</td>\n",
       "      <td>158</td>\n",
       "    </tr>\n",
       "    <tr>\n",
       "      <th>29912</th>\n",
       "      <td>167264</td>\n",
       "      <td>2019-11-21 00:00:00+03:00</td>\n",
       "      <td>in</td>\n",
       "      <td>NaN</td>\n",
       "      <td>919552.0</td>\n",
       "      <td>False</td>\n",
       "      <td>1</td>\n",
       "      <td>55</td>\n",
       "      <td>80</td>\n",
       "    </tr>\n",
       "    <tr>\n",
       "      <th>29985</th>\n",
       "      <td>167272</td>\n",
       "      <td>2019-10-09 00:00:00+03:00</td>\n",
       "      <td>in</td>\n",
       "      <td>NaN</td>\n",
       "      <td>910018.0</td>\n",
       "      <td>False</td>\n",
       "      <td>1</td>\n",
       "      <td>115</td>\n",
       "      <td>135</td>\n",
       "    </tr>\n",
       "    <tr>\n",
       "      <th>29989</th>\n",
       "      <td>167272</td>\n",
       "      <td>2019-10-09 00:00:00+03:00</td>\n",
       "      <td>in</td>\n",
       "      <td>NaN</td>\n",
       "      <td>912684.0</td>\n",
       "      <td>False</td>\n",
       "      <td>1</td>\n",
       "      <td>123</td>\n",
       "      <td>175</td>\n",
       "    </tr>\n",
       "    <tr>\n",
       "      <th>29991</th>\n",
       "      <td>167272</td>\n",
       "      <td>2019-10-09 00:00:00+03:00</td>\n",
       "      <td>in</td>\n",
       "      <td>NaN</td>\n",
       "      <td>912684.0</td>\n",
       "      <td>False</td>\n",
       "      <td>1</td>\n",
       "      <td>123</td>\n",
       "      <td>175</td>\n",
       "    </tr>\n",
       "    <tr>\n",
       "      <th>30249</th>\n",
       "      <td>167286</td>\n",
       "      <td>2019-10-31 00:00:00+03:00</td>\n",
       "      <td>in</td>\n",
       "      <td>NaN</td>\n",
       "      <td>910540.0</td>\n",
       "      <td>False</td>\n",
       "      <td>1</td>\n",
       "      <td>11</td>\n",
       "      <td>30</td>\n",
       "    </tr>\n",
       "    <tr>\n",
       "      <th>32590</th>\n",
       "      <td>167466</td>\n",
       "      <td>2019-11-26 00:00:00+03:00</td>\n",
       "      <td>in</td>\n",
       "      <td>NaN</td>\n",
       "      <td>921818.0</td>\n",
       "      <td>False</td>\n",
       "      <td>1</td>\n",
       "      <td>15</td>\n",
       "      <td>81</td>\n",
       "    </tr>\n",
       "    <tr>\n",
       "      <th>35102</th>\n",
       "      <td>167521</td>\n",
       "      <td>2019-11-15 00:00:00+03:00</td>\n",
       "      <td>in</td>\n",
       "      <td>NaN</td>\n",
       "      <td>919790.0</td>\n",
       "      <td>False</td>\n",
       "      <td>1</td>\n",
       "      <td>64</td>\n",
       "      <td>104</td>\n",
       "    </tr>\n",
       "    <tr>\n",
       "      <th>35110</th>\n",
       "      <td>167521</td>\n",
       "      <td>2019-11-15 00:00:00+03:00</td>\n",
       "      <td>in</td>\n",
       "      <td>NaN</td>\n",
       "      <td>919790.0</td>\n",
       "      <td>False</td>\n",
       "      <td>1</td>\n",
       "      <td>64</td>\n",
       "      <td>104</td>\n",
       "    </tr>\n",
       "    <tr>\n",
       "      <th>35117</th>\n",
       "      <td>167521</td>\n",
       "      <td>2019-11-16 00:00:00+03:00</td>\n",
       "      <td>in</td>\n",
       "      <td>NaN</td>\n",
       "      <td>919790.0</td>\n",
       "      <td>False</td>\n",
       "      <td>1</td>\n",
       "      <td>65</td>\n",
       "      <td>105</td>\n",
       "    </tr>\n",
       "    <tr>\n",
       "      <th>35728</th>\n",
       "      <td>167534</td>\n",
       "      <td>2019-10-16 00:00:00+03:00</td>\n",
       "      <td>in</td>\n",
       "      <td>NaN</td>\n",
       "      <td>929332.0</td>\n",
       "      <td>False</td>\n",
       "      <td>1</td>\n",
       "      <td>5</td>\n",
       "      <td>18</td>\n",
       "    </tr>\n",
       "    <tr>\n",
       "      <th>36466</th>\n",
       "      <td>167626</td>\n",
       "      <td>2019-09-27 00:00:00+03:00</td>\n",
       "      <td>in</td>\n",
       "      <td>NaN</td>\n",
       "      <td>919204.0</td>\n",
       "      <td>False</td>\n",
       "      <td>1</td>\n",
       "      <td>10</td>\n",
       "      <td>15</td>\n",
       "    </tr>\n",
       "    <tr>\n",
       "      <th>36590</th>\n",
       "      <td>167626</td>\n",
       "      <td>2019-09-30 00:00:00+03:00</td>\n",
       "      <td>in</td>\n",
       "      <td>NaN</td>\n",
       "      <td>919206.0</td>\n",
       "      <td>False</td>\n",
       "      <td>1</td>\n",
       "      <td>15</td>\n",
       "      <td>19</td>\n",
       "    </tr>\n",
       "    <tr>\n",
       "      <th>36607</th>\n",
       "      <td>167626</td>\n",
       "      <td>2019-09-30 00:00:00+03:00</td>\n",
       "      <td>in</td>\n",
       "      <td>NaN</td>\n",
       "      <td>919164.0</td>\n",
       "      <td>False</td>\n",
       "      <td>1</td>\n",
       "      <td>39</td>\n",
       "      <td>43</td>\n",
       "    </tr>\n",
       "    <tr>\n",
       "      <th>36673</th>\n",
       "      <td>167626</td>\n",
       "      <td>2019-10-01 00:00:00+03:00</td>\n",
       "      <td>in</td>\n",
       "      <td>NaN</td>\n",
       "      <td>919204.0</td>\n",
       "      <td>False</td>\n",
       "      <td>1</td>\n",
       "      <td>32</td>\n",
       "      <td>36</td>\n",
       "    </tr>\n",
       "    <tr>\n",
       "      <th>36828</th>\n",
       "      <td>167626</td>\n",
       "      <td>2019-10-03 00:00:00+03:00</td>\n",
       "      <td>in</td>\n",
       "      <td>NaN</td>\n",
       "      <td>919164.0</td>\n",
       "      <td>False</td>\n",
       "      <td>1</td>\n",
       "      <td>19</td>\n",
       "      <td>25</td>\n",
       "    </tr>\n",
       "    <tr>\n",
       "      <th>37964</th>\n",
       "      <td>167650</td>\n",
       "      <td>2019-10-01 00:00:00+03:00</td>\n",
       "      <td>in</td>\n",
       "      <td>NaN</td>\n",
       "      <td>921318.0</td>\n",
       "      <td>False</td>\n",
       "      <td>1</td>\n",
       "      <td>124</td>\n",
       "      <td>131</td>\n",
       "    </tr>\n",
       "    <tr>\n",
       "      <th>38069</th>\n",
       "      <td>167650</td>\n",
       "      <td>2019-10-14 00:00:00+03:00</td>\n",
       "      <td>in</td>\n",
       "      <td>NaN</td>\n",
       "      <td>921318.0</td>\n",
       "      <td>False</td>\n",
       "      <td>1</td>\n",
       "      <td>136</td>\n",
       "      <td>145</td>\n",
       "    </tr>\n",
       "    <tr>\n",
       "      <th>38099</th>\n",
       "      <td>167650</td>\n",
       "      <td>2019-10-17 00:00:00+03:00</td>\n",
       "      <td>in</td>\n",
       "      <td>NaN</td>\n",
       "      <td>921318.0</td>\n",
       "      <td>False</td>\n",
       "      <td>1</td>\n",
       "      <td>109</td>\n",
       "      <td>116</td>\n",
       "    </tr>\n",
       "    <tr>\n",
       "      <th>38122</th>\n",
       "      <td>167650</td>\n",
       "      <td>2019-10-19 00:00:00+03:00</td>\n",
       "      <td>in</td>\n",
       "      <td>NaN</td>\n",
       "      <td>931458.0</td>\n",
       "      <td>False</td>\n",
       "      <td>1</td>\n",
       "      <td>44</td>\n",
       "      <td>57</td>\n",
       "    </tr>\n",
       "    <tr>\n",
       "      <th>38274</th>\n",
       "      <td>167650</td>\n",
       "      <td>2019-11-02 00:00:00+03:00</td>\n",
       "      <td>in</td>\n",
       "      <td>NaN</td>\n",
       "      <td>921318.0</td>\n",
       "      <td>False</td>\n",
       "      <td>1</td>\n",
       "      <td>90</td>\n",
       "      <td>99</td>\n",
       "    </tr>\n",
       "    <tr>\n",
       "      <th>38527</th>\n",
       "      <td>167650</td>\n",
       "      <td>2019-11-26 00:00:00+03:00</td>\n",
       "      <td>in</td>\n",
       "      <td>NaN</td>\n",
       "      <td>931458.0</td>\n",
       "      <td>False</td>\n",
       "      <td>1</td>\n",
       "      <td>94</td>\n",
       "      <td>101</td>\n",
       "    </tr>\n",
       "    <tr>\n",
       "      <th>40602</th>\n",
       "      <td>167827</td>\n",
       "      <td>2019-10-21 00:00:00+03:00</td>\n",
       "      <td>in</td>\n",
       "      <td>NaN</td>\n",
       "      <td>929424.0</td>\n",
       "      <td>False</td>\n",
       "      <td>1</td>\n",
       "      <td>13</td>\n",
       "      <td>14</td>\n",
       "    </tr>\n",
       "    <tr>\n",
       "      <th>41111</th>\n",
       "      <td>167828</td>\n",
       "      <td>2019-11-18 00:00:00+03:00</td>\n",
       "      <td>in</td>\n",
       "      <td>NaN</td>\n",
       "      <td>940430.0</td>\n",
       "      <td>False</td>\n",
       "      <td>1</td>\n",
       "      <td>363</td>\n",
       "      <td>364</td>\n",
       "    </tr>\n",
       "    <tr>\n",
       "      <th>41378</th>\n",
       "      <td>167852</td>\n",
       "      <td>2019-10-23 00:00:00+03:00</td>\n",
       "      <td>in</td>\n",
       "      <td>NaN</td>\n",
       "      <td>932798.0</td>\n",
       "      <td>False</td>\n",
       "      <td>1</td>\n",
       "      <td>90</td>\n",
       "      <td>100</td>\n",
       "    </tr>\n",
       "    <tr>\n",
       "      <th>41385</th>\n",
       "      <td>167852</td>\n",
       "      <td>2019-10-25 00:00:00+03:00</td>\n",
       "      <td>in</td>\n",
       "      <td>NaN</td>\n",
       "      <td>932798.0</td>\n",
       "      <td>False</td>\n",
       "      <td>1</td>\n",
       "      <td>28</td>\n",
       "      <td>39</td>\n",
       "    </tr>\n",
       "    <tr>\n",
       "      <th>41392</th>\n",
       "      <td>167852</td>\n",
       "      <td>2019-10-25 00:00:00+03:00</td>\n",
       "      <td>in</td>\n",
       "      <td>NaN</td>\n",
       "      <td>932798.0</td>\n",
       "      <td>False</td>\n",
       "      <td>1</td>\n",
       "      <td>28</td>\n",
       "      <td>39</td>\n",
       "    </tr>\n",
       "    <tr>\n",
       "      <th>41400</th>\n",
       "      <td>167852</td>\n",
       "      <td>2019-10-31 00:00:00+03:00</td>\n",
       "      <td>in</td>\n",
       "      <td>NaN</td>\n",
       "      <td>932798.0</td>\n",
       "      <td>False</td>\n",
       "      <td>1</td>\n",
       "      <td>81</td>\n",
       "      <td>90</td>\n",
       "    </tr>\n",
       "    <tr>\n",
       "      <th>41462</th>\n",
       "      <td>167870</td>\n",
       "      <td>2019-11-06 00:00:00+03:00</td>\n",
       "      <td>in</td>\n",
       "      <td>NaN</td>\n",
       "      <td>936110.0</td>\n",
       "      <td>False</td>\n",
       "      <td>1</td>\n",
       "      <td>31</td>\n",
       "      <td>45</td>\n",
       "    </tr>\n",
       "    <tr>\n",
       "      <th>43094</th>\n",
       "      <td>167977</td>\n",
       "      <td>2019-11-14 00:00:00+03:00</td>\n",
       "      <td>in</td>\n",
       "      <td>NaN</td>\n",
       "      <td>944222.0</td>\n",
       "      <td>False</td>\n",
       "      <td>1</td>\n",
       "      <td>960</td>\n",
       "      <td>973</td>\n",
       "    </tr>\n",
       "    <tr>\n",
       "      <th>43100</th>\n",
       "      <td>167977</td>\n",
       "      <td>2019-11-14 00:00:00+03:00</td>\n",
       "      <td>in</td>\n",
       "      <td>NaN</td>\n",
       "      <td>944220.0</td>\n",
       "      <td>False</td>\n",
       "      <td>1</td>\n",
       "      <td>5</td>\n",
       "      <td>19</td>\n",
       "    </tr>\n",
       "    <tr>\n",
       "      <th>43102</th>\n",
       "      <td>167977</td>\n",
       "      <td>2019-11-14 00:00:00+03:00</td>\n",
       "      <td>in</td>\n",
       "      <td>NaN</td>\n",
       "      <td>944220.0</td>\n",
       "      <td>False</td>\n",
       "      <td>1</td>\n",
       "      <td>5</td>\n",
       "      <td>19</td>\n",
       "    </tr>\n",
       "    <tr>\n",
       "      <th>43256</th>\n",
       "      <td>167977</td>\n",
       "      <td>2019-11-25 00:00:00+03:00</td>\n",
       "      <td>in</td>\n",
       "      <td>NaN</td>\n",
       "      <td>944216.0</td>\n",
       "      <td>False</td>\n",
       "      <td>1</td>\n",
       "      <td>206</td>\n",
       "      <td>230</td>\n",
       "    </tr>\n",
       "    <tr>\n",
       "      <th>43287</th>\n",
       "      <td>167977</td>\n",
       "      <td>2019-11-27 00:00:00+03:00</td>\n",
       "      <td>in</td>\n",
       "      <td>NaN</td>\n",
       "      <td>944220.0</td>\n",
       "      <td>False</td>\n",
       "      <td>1</td>\n",
       "      <td>144</td>\n",
       "      <td>177</td>\n",
       "    </tr>\n",
       "    <tr>\n",
       "      <th>44352</th>\n",
       "      <td>168041</td>\n",
       "      <td>2019-11-06 00:00:00+03:00</td>\n",
       "      <td>in</td>\n",
       "      <td>NaN</td>\n",
       "      <td>936514.0</td>\n",
       "      <td>False</td>\n",
       "      <td>1</td>\n",
       "      <td>1</td>\n",
       "      <td>24</td>\n",
       "    </tr>\n",
       "    <tr>\n",
       "      <th>46012</th>\n",
       "      <td>168091</td>\n",
       "      <td>2019-11-13 00:00:00+03:00</td>\n",
       "      <td>in</td>\n",
       "      <td>NaN</td>\n",
       "      <td>958460.0</td>\n",
       "      <td>True</td>\n",
       "      <td>1</td>\n",
       "      <td>85</td>\n",
       "      <td>136</td>\n",
       "    </tr>\n",
       "    <tr>\n",
       "      <th>50718</th>\n",
       "      <td>168252</td>\n",
       "      <td>2019-11-22 00:00:00+03:00</td>\n",
       "      <td>in</td>\n",
       "      <td>NaN</td>\n",
       "      <td>940658.0</td>\n",
       "      <td>False</td>\n",
       "      <td>1</td>\n",
       "      <td>20</td>\n",
       "      <td>27</td>\n",
       "    </tr>\n",
       "    <tr>\n",
       "      <th>51021</th>\n",
       "      <td>168253</td>\n",
       "      <td>2019-11-15 00:00:00+03:00</td>\n",
       "      <td>in</td>\n",
       "      <td>NaN</td>\n",
       "      <td>952948.0</td>\n",
       "      <td>False</td>\n",
       "      <td>2</td>\n",
       "      <td>61</td>\n",
       "      <td>63</td>\n",
       "    </tr>\n",
       "    <tr>\n",
       "      <th>51505</th>\n",
       "      <td>168307</td>\n",
       "      <td>2019-11-01 00:00:00+03:00</td>\n",
       "      <td>in</td>\n",
       "      <td>NaN</td>\n",
       "      <td>945046.0</td>\n",
       "      <td>False</td>\n",
       "      <td>1</td>\n",
       "      <td>745</td>\n",
       "      <td>748</td>\n",
       "    </tr>\n",
       "    <tr>\n",
       "      <th>53799</th>\n",
       "      <td>168598</td>\n",
       "      <td>2019-11-22 00:00:00+03:00</td>\n",
       "      <td>in</td>\n",
       "      <td>NaN</td>\n",
       "      <td>958394.0</td>\n",
       "      <td>False</td>\n",
       "      <td>1</td>\n",
       "      <td>11</td>\n",
       "      <td>17</td>\n",
       "    </tr>\n",
       "  </tbody>\n",
       "</table>\n",
       "</div>"
      ],
      "text/plain": [
       "       user_id                       date direction internal  operator_id  \\\n",
       "1924    166406  2019-09-02 00:00:00+03:00        in      NaN     879898.0   \n",
       "6210    166541  2019-09-26 00:00:00+03:00        in      NaN     908960.0   \n",
       "6216    166541  2019-09-26 00:00:00+03:00        in      NaN     908958.0   \n",
       "7528    166604  2019-11-01 00:00:00+03:00        in      NaN     893402.0   \n",
       "8650    166658  2019-09-24 00:00:00+03:00        in      NaN     890404.0   \n",
       "9080    166658  2019-10-15 00:00:00+03:00        in      NaN     890404.0   \n",
       "16180   166916  2019-10-01 00:00:00+03:00        in      NaN     906396.0   \n",
       "16304   166916  2019-10-07 00:00:00+03:00        in      NaN     906406.0   \n",
       "16569   166916  2019-10-23 00:00:00+03:00        in      NaN     906400.0   \n",
       "18647   166983  2019-09-02 00:00:00+03:00        in      NaN     901880.0   \n",
       "19497   166983  2019-11-14 00:00:00+03:00        in      NaN     901880.0   \n",
       "19970   166997  2019-09-21 00:00:00+03:00        in      NaN     903312.0   \n",
       "20078   166997  2019-10-01 00:00:00+03:00        in      NaN     905432.0   \n",
       "20168   166997  2019-10-13 00:00:00+03:00        in      NaN     903312.0   \n",
       "21716   167035  2019-11-17 00:00:00+03:00        in      NaN     923526.0   \n",
       "23183   167078  2019-11-13 00:00:00+03:00        in      NaN     935348.0   \n",
       "23822   167109  2019-09-25 00:00:00+03:00        in      NaN     906294.0   \n",
       "29569   167246  2019-10-18 00:00:00+03:00        in      NaN     908082.0   \n",
       "29571   167246  2019-10-18 00:00:00+03:00        in      NaN     908082.0   \n",
       "29741   167264  2019-10-14 00:00:00+03:00        in      NaN     919554.0   \n",
       "29887   167264  2019-11-15 00:00:00+03:00        in      NaN     919552.0   \n",
       "29912   167264  2019-11-21 00:00:00+03:00        in      NaN     919552.0   \n",
       "29985   167272  2019-10-09 00:00:00+03:00        in      NaN     910018.0   \n",
       "29989   167272  2019-10-09 00:00:00+03:00        in      NaN     912684.0   \n",
       "29991   167272  2019-10-09 00:00:00+03:00        in      NaN     912684.0   \n",
       "30249   167286  2019-10-31 00:00:00+03:00        in      NaN     910540.0   \n",
       "32590   167466  2019-11-26 00:00:00+03:00        in      NaN     921818.0   \n",
       "35102   167521  2019-11-15 00:00:00+03:00        in      NaN     919790.0   \n",
       "35110   167521  2019-11-15 00:00:00+03:00        in      NaN     919790.0   \n",
       "35117   167521  2019-11-16 00:00:00+03:00        in      NaN     919790.0   \n",
       "35728   167534  2019-10-16 00:00:00+03:00        in      NaN     929332.0   \n",
       "36466   167626  2019-09-27 00:00:00+03:00        in      NaN     919204.0   \n",
       "36590   167626  2019-09-30 00:00:00+03:00        in      NaN     919206.0   \n",
       "36607   167626  2019-09-30 00:00:00+03:00        in      NaN     919164.0   \n",
       "36673   167626  2019-10-01 00:00:00+03:00        in      NaN     919204.0   \n",
       "36828   167626  2019-10-03 00:00:00+03:00        in      NaN     919164.0   \n",
       "37964   167650  2019-10-01 00:00:00+03:00        in      NaN     921318.0   \n",
       "38069   167650  2019-10-14 00:00:00+03:00        in      NaN     921318.0   \n",
       "38099   167650  2019-10-17 00:00:00+03:00        in      NaN     921318.0   \n",
       "38122   167650  2019-10-19 00:00:00+03:00        in      NaN     931458.0   \n",
       "38274   167650  2019-11-02 00:00:00+03:00        in      NaN     921318.0   \n",
       "38527   167650  2019-11-26 00:00:00+03:00        in      NaN     931458.0   \n",
       "40602   167827  2019-10-21 00:00:00+03:00        in      NaN     929424.0   \n",
       "41111   167828  2019-11-18 00:00:00+03:00        in      NaN     940430.0   \n",
       "41378   167852  2019-10-23 00:00:00+03:00        in      NaN     932798.0   \n",
       "41385   167852  2019-10-25 00:00:00+03:00        in      NaN     932798.0   \n",
       "41392   167852  2019-10-25 00:00:00+03:00        in      NaN     932798.0   \n",
       "41400   167852  2019-10-31 00:00:00+03:00        in      NaN     932798.0   \n",
       "41462   167870  2019-11-06 00:00:00+03:00        in      NaN     936110.0   \n",
       "43094   167977  2019-11-14 00:00:00+03:00        in      NaN     944222.0   \n",
       "43100   167977  2019-11-14 00:00:00+03:00        in      NaN     944220.0   \n",
       "43102   167977  2019-11-14 00:00:00+03:00        in      NaN     944220.0   \n",
       "43256   167977  2019-11-25 00:00:00+03:00        in      NaN     944216.0   \n",
       "43287   167977  2019-11-27 00:00:00+03:00        in      NaN     944220.0   \n",
       "44352   168041  2019-11-06 00:00:00+03:00        in      NaN     936514.0   \n",
       "46012   168091  2019-11-13 00:00:00+03:00        in      NaN     958460.0   \n",
       "50718   168252  2019-11-22 00:00:00+03:00        in      NaN     940658.0   \n",
       "51021   168253  2019-11-15 00:00:00+03:00        in      NaN     952948.0   \n",
       "51505   168307  2019-11-01 00:00:00+03:00        in      NaN     945046.0   \n",
       "53799   168598  2019-11-22 00:00:00+03:00        in      NaN     958394.0   \n",
       "\n",
       "       is_missed_call  calls_count  call_duration  total_call_duration  \n",
       "1924            False            1              2                    9  \n",
       "6210            False            1            393                  423  \n",
       "6216            False            2            547                  612  \n",
       "7528            False            1             94                  117  \n",
       "8650            False            1            150                  157  \n",
       "9080            False            1             51                   57  \n",
       "16180           False            1            100                  117  \n",
       "16304           False            3            378                  461  \n",
       "16569           False            1             81                  110  \n",
       "18647           False            1            119                  127  \n",
       "19497           False            1            208                  210  \n",
       "19970           False            1             91                  107  \n",
       "20078           False            1            159                  164  \n",
       "20168           False            1             78                   82  \n",
       "21716           False            1             68                   77  \n",
       "23183           False            2             73                   84  \n",
       "23822           False            1             23                   27  \n",
       "29569           False            1              7                   21  \n",
       "29571           False            1              7                   21  \n",
       "29741           False            1            202                  243  \n",
       "29887           False            1            125                  158  \n",
       "29912           False            1             55                   80  \n",
       "29985           False            1            115                  135  \n",
       "29989           False            1            123                  175  \n",
       "29991           False            1            123                  175  \n",
       "30249           False            1             11                   30  \n",
       "32590           False            1             15                   81  \n",
       "35102           False            1             64                  104  \n",
       "35110           False            1             64                  104  \n",
       "35117           False            1             65                  105  \n",
       "35728           False            1              5                   18  \n",
       "36466           False            1             10                   15  \n",
       "36590           False            1             15                   19  \n",
       "36607           False            1             39                   43  \n",
       "36673           False            1             32                   36  \n",
       "36828           False            1             19                   25  \n",
       "37964           False            1            124                  131  \n",
       "38069           False            1            136                  145  \n",
       "38099           False            1            109                  116  \n",
       "38122           False            1             44                   57  \n",
       "38274           False            1             90                   99  \n",
       "38527           False            1             94                  101  \n",
       "40602           False            1             13                   14  \n",
       "41111           False            1            363                  364  \n",
       "41378           False            1             90                  100  \n",
       "41385           False            1             28                   39  \n",
       "41392           False            1             28                   39  \n",
       "41400           False            1             81                   90  \n",
       "41462           False            1             31                   45  \n",
       "43094           False            1            960                  973  \n",
       "43100           False            1              5                   19  \n",
       "43102           False            1              5                   19  \n",
       "43256           False            1            206                  230  \n",
       "43287           False            1            144                  177  \n",
       "44352           False            1              1                   24  \n",
       "46012            True            1             85                  136  \n",
       "50718           False            1             20                   27  \n",
       "51021           False            2             61                   63  \n",
       "51505           False            1            745                  748  \n",
       "53799           False            1             11                   17  "
      ]
     },
     "execution_count": 10,
     "metadata": {},
     "output_type": "execute_result"
    }
   ],
   "source": [
    "telecom_dataset[telecom_dataset['internal'].isnull()]"
   ]
  },
  {
   "cell_type": "markdown",
   "metadata": {},
   "source": [
    "Пропуски в internal заполним как False."
   ]
  },
  {
   "cell_type": "code",
   "execution_count": 11,
   "metadata": {},
   "outputs": [],
   "source": [
    "telecom_dataset['internal']=telecom_dataset['internal'].fillna(False)"
   ]
  },
  {
   "cell_type": "markdown",
   "metadata": {},
   "source": [
    "Приведем значения айди операторов к целочисленному типу."
   ]
  },
  {
   "cell_type": "code",
   "execution_count": 12,
   "metadata": {},
   "outputs": [],
   "source": [
    "telecom_dataset['operator_id']=telecom_dataset['operator_id'].apply(lambda x: int(x))"
   ]
  },
  {
   "cell_type": "code",
   "execution_count": 13,
   "metadata": {
    "scrolled": false
   },
   "outputs": [
    {
     "data": {
      "text/html": [
       "<div>\n",
       "<style scoped>\n",
       "    .dataframe tbody tr th:only-of-type {\n",
       "        vertical-align: middle;\n",
       "    }\n",
       "\n",
       "    .dataframe tbody tr th {\n",
       "        vertical-align: top;\n",
       "    }\n",
       "\n",
       "    .dataframe thead th {\n",
       "        text-align: right;\n",
       "    }\n",
       "</style>\n",
       "<table border=\"1\" class=\"dataframe\">\n",
       "  <thead>\n",
       "    <tr style=\"text-align: right;\">\n",
       "      <th></th>\n",
       "      <th>user_id</th>\n",
       "      <th>tariff_plan</th>\n",
       "      <th>date_start</th>\n",
       "    </tr>\n",
       "  </thead>\n",
       "  <tbody>\n",
       "    <tr>\n",
       "      <th>0</th>\n",
       "      <td>166713</td>\n",
       "      <td>A</td>\n",
       "      <td>2019-08-15</td>\n",
       "    </tr>\n",
       "    <tr>\n",
       "      <th>1</th>\n",
       "      <td>166901</td>\n",
       "      <td>A</td>\n",
       "      <td>2019-08-23</td>\n",
       "    </tr>\n",
       "    <tr>\n",
       "      <th>2</th>\n",
       "      <td>168527</td>\n",
       "      <td>A</td>\n",
       "      <td>2019-10-29</td>\n",
       "    </tr>\n",
       "    <tr>\n",
       "      <th>3</th>\n",
       "      <td>167097</td>\n",
       "      <td>A</td>\n",
       "      <td>2019-09-01</td>\n",
       "    </tr>\n",
       "    <tr>\n",
       "      <th>4</th>\n",
       "      <td>168193</td>\n",
       "      <td>A</td>\n",
       "      <td>2019-10-16</td>\n",
       "    </tr>\n",
       "  </tbody>\n",
       "</table>\n",
       "</div>"
      ],
      "text/plain": [
       "   user_id tariff_plan  date_start\n",
       "0   166713           A  2019-08-15\n",
       "1   166901           A  2019-08-23\n",
       "2   168527           A  2019-10-29\n",
       "3   167097           A  2019-09-01\n",
       "4   168193           A  2019-10-16"
      ]
     },
     "execution_count": 13,
     "metadata": {},
     "output_type": "execute_result"
    }
   ],
   "source": [
    "telecom_clients.head()"
   ]
  },
  {
   "cell_type": "code",
   "execution_count": 14,
   "metadata": {
    "scrolled": true
   },
   "outputs": [
    {
     "name": "stdout",
     "output_type": "stream",
     "text": [
      "<class 'pandas.core.frame.DataFrame'>\n",
      "RangeIndex: 732 entries, 0 to 731\n",
      "Data columns (total 3 columns):\n",
      " #   Column       Non-Null Count  Dtype \n",
      "---  ------       --------------  ----- \n",
      " 0   user_id      732 non-null    int64 \n",
      " 1   tariff_plan  732 non-null    object\n",
      " 2   date_start   732 non-null    object\n",
      "dtypes: int64(1), object(2)\n",
      "memory usage: 17.3+ KB\n"
     ]
    }
   ],
   "source": [
    "telecom_clients.info()"
   ]
  },
  {
   "cell_type": "markdown",
   "metadata": {},
   "source": [
    "Столбцы с датами сконвертируем в даты."
   ]
  },
  {
   "cell_type": "code",
   "execution_count": 15,
   "metadata": {},
   "outputs": [],
   "source": [
    "telecom_dataset['date']=pd.to_datetime(telecom_dataset['date'])"
   ]
  },
  {
   "cell_type": "code",
   "execution_count": 16,
   "metadata": {},
   "outputs": [],
   "source": [
    "telecom_dataset['date']=telecom_dataset['date'].dt.date"
   ]
  },
  {
   "cell_type": "code",
   "execution_count": 17,
   "metadata": {},
   "outputs": [],
   "source": [
    "telecom_clients['date_start']=pd.to_datetime(telecom_clients['date_start'])"
   ]
  },
  {
   "cell_type": "code",
   "execution_count": 18,
   "metadata": {
    "scrolled": true
   },
   "outputs": [
    {
     "data": {
      "text/plain": [
       "4184"
      ]
     },
     "execution_count": 18,
     "metadata": {},
     "output_type": "execute_result"
    }
   ],
   "source": [
    "telecom_dataset.duplicated().sum()"
   ]
  },
  {
   "cell_type": "markdown",
   "metadata": {},
   "source": [
    "В датасете 4100 дубликатов - удалим их."
   ]
  },
  {
   "cell_type": "code",
   "execution_count": 19,
   "metadata": {},
   "outputs": [],
   "source": [
    "telecom_dataset.drop_duplicates(inplace=True)"
   ]
  },
  {
   "cell_type": "code",
   "execution_count": 20,
   "metadata": {},
   "outputs": [
    {
     "data": {
      "text/plain": [
       "0"
      ]
     },
     "execution_count": 20,
     "metadata": {},
     "output_type": "execute_result"
    }
   ],
   "source": [
    "telecom_dataset.duplicated().sum()"
   ]
  },
  {
   "cell_type": "markdown",
   "metadata": {},
   "source": [
    "---\n",
    "\n",
    "### Комментарий наставника\n",
    "\n",
    "Всё здорово, но где удаление дубликатов? Тут их огромное количество. Это упущение стоит наверстать. Удали их, пожалуйста.\n",
    "\n",
    "---"
   ]
  },
  {
   "cell_type": "markdown",
   "metadata": {},
   "source": [
    "### Исследовательский анализ данных"
   ]
  },
  {
   "cell_type": "code",
   "execution_count": 21,
   "metadata": {},
   "outputs": [],
   "source": [
    "import seaborn as sns\n",
    "import matplotlib.pyplot as plt\n",
    "import numpy as np"
   ]
  },
  {
   "cell_type": "code",
   "execution_count": 22,
   "metadata": {},
   "outputs": [
    {
     "data": {
      "text/html": [
       "<div>\n",
       "<style scoped>\n",
       "    .dataframe tbody tr th:only-of-type {\n",
       "        vertical-align: middle;\n",
       "    }\n",
       "\n",
       "    .dataframe tbody tr th {\n",
       "        vertical-align: top;\n",
       "    }\n",
       "\n",
       "    .dataframe thead th {\n",
       "        text-align: right;\n",
       "    }\n",
       "</style>\n",
       "<table border=\"1\" class=\"dataframe\">\n",
       "  <thead>\n",
       "    <tr style=\"text-align: right;\">\n",
       "      <th></th>\n",
       "      <th>user_id</th>\n",
       "      <th>date</th>\n",
       "      <th>direction</th>\n",
       "      <th>internal</th>\n",
       "      <th>operator_id</th>\n",
       "      <th>is_missed_call</th>\n",
       "      <th>calls_count</th>\n",
       "      <th>call_duration</th>\n",
       "      <th>total_call_duration</th>\n",
       "    </tr>\n",
       "  </thead>\n",
       "  <tbody>\n",
       "    <tr>\n",
       "      <th>1</th>\n",
       "      <td>166377</td>\n",
       "      <td>2019-08-05</td>\n",
       "      <td>out</td>\n",
       "      <td>True</td>\n",
       "      <td>880022</td>\n",
       "      <td>True</td>\n",
       "      <td>3</td>\n",
       "      <td>0</td>\n",
       "      <td>5</td>\n",
       "    </tr>\n",
       "    <tr>\n",
       "      <th>2</th>\n",
       "      <td>166377</td>\n",
       "      <td>2019-08-05</td>\n",
       "      <td>out</td>\n",
       "      <td>True</td>\n",
       "      <td>880020</td>\n",
       "      <td>True</td>\n",
       "      <td>1</td>\n",
       "      <td>0</td>\n",
       "      <td>1</td>\n",
       "    </tr>\n",
       "    <tr>\n",
       "      <th>3</th>\n",
       "      <td>166377</td>\n",
       "      <td>2019-08-05</td>\n",
       "      <td>out</td>\n",
       "      <td>True</td>\n",
       "      <td>880020</td>\n",
       "      <td>False</td>\n",
       "      <td>1</td>\n",
       "      <td>10</td>\n",
       "      <td>18</td>\n",
       "    </tr>\n",
       "    <tr>\n",
       "      <th>4</th>\n",
       "      <td>166377</td>\n",
       "      <td>2019-08-05</td>\n",
       "      <td>out</td>\n",
       "      <td>False</td>\n",
       "      <td>880022</td>\n",
       "      <td>True</td>\n",
       "      <td>3</td>\n",
       "      <td>0</td>\n",
       "      <td>25</td>\n",
       "    </tr>\n",
       "    <tr>\n",
       "      <th>5</th>\n",
       "      <td>166377</td>\n",
       "      <td>2019-08-05</td>\n",
       "      <td>out</td>\n",
       "      <td>False</td>\n",
       "      <td>880020</td>\n",
       "      <td>False</td>\n",
       "      <td>2</td>\n",
       "      <td>3</td>\n",
       "      <td>29</td>\n",
       "    </tr>\n",
       "    <tr>\n",
       "      <th>...</th>\n",
       "      <td>...</td>\n",
       "      <td>...</td>\n",
       "      <td>...</td>\n",
       "      <td>...</td>\n",
       "      <td>...</td>\n",
       "      <td>...</td>\n",
       "      <td>...</td>\n",
       "      <td>...</td>\n",
       "      <td>...</td>\n",
       "    </tr>\n",
       "    <tr>\n",
       "      <th>53895</th>\n",
       "      <td>168606</td>\n",
       "      <td>2019-11-09</td>\n",
       "      <td>out</td>\n",
       "      <td>False</td>\n",
       "      <td>957922</td>\n",
       "      <td>False</td>\n",
       "      <td>4</td>\n",
       "      <td>551</td>\n",
       "      <td>593</td>\n",
       "    </tr>\n",
       "    <tr>\n",
       "      <th>53896</th>\n",
       "      <td>168606</td>\n",
       "      <td>2019-11-10</td>\n",
       "      <td>out</td>\n",
       "      <td>True</td>\n",
       "      <td>957922</td>\n",
       "      <td>False</td>\n",
       "      <td>1</td>\n",
       "      <td>0</td>\n",
       "      <td>25</td>\n",
       "    </tr>\n",
       "    <tr>\n",
       "      <th>53897</th>\n",
       "      <td>168606</td>\n",
       "      <td>2019-11-10</td>\n",
       "      <td>out</td>\n",
       "      <td>True</td>\n",
       "      <td>957922</td>\n",
       "      <td>True</td>\n",
       "      <td>1</td>\n",
       "      <td>0</td>\n",
       "      <td>38</td>\n",
       "    </tr>\n",
       "    <tr>\n",
       "      <th>53898</th>\n",
       "      <td>168606</td>\n",
       "      <td>2019-11-11</td>\n",
       "      <td>out</td>\n",
       "      <td>True</td>\n",
       "      <td>957922</td>\n",
       "      <td>False</td>\n",
       "      <td>2</td>\n",
       "      <td>479</td>\n",
       "      <td>501</td>\n",
       "    </tr>\n",
       "    <tr>\n",
       "      <th>53899</th>\n",
       "      <td>168606</td>\n",
       "      <td>2019-11-15</td>\n",
       "      <td>out</td>\n",
       "      <td>True</td>\n",
       "      <td>957922</td>\n",
       "      <td>False</td>\n",
       "      <td>4</td>\n",
       "      <td>3130</td>\n",
       "      <td>3190</td>\n",
       "    </tr>\n",
       "  </tbody>\n",
       "</table>\n",
       "<p>41546 rows × 9 columns</p>\n",
       "</div>"
      ],
      "text/plain": [
       "       user_id        date direction  internal  operator_id  is_missed_call  \\\n",
       "1       166377  2019-08-05       out      True       880022            True   \n",
       "2       166377  2019-08-05       out      True       880020            True   \n",
       "3       166377  2019-08-05       out      True       880020           False   \n",
       "4       166377  2019-08-05       out     False       880022            True   \n",
       "5       166377  2019-08-05       out     False       880020           False   \n",
       "...        ...         ...       ...       ...          ...             ...   \n",
       "53895   168606  2019-11-09       out     False       957922           False   \n",
       "53896   168606  2019-11-10       out      True       957922           False   \n",
       "53897   168606  2019-11-10       out      True       957922            True   \n",
       "53898   168606  2019-11-11       out      True       957922           False   \n",
       "53899   168606  2019-11-15       out      True       957922           False   \n",
       "\n",
       "       calls_count  call_duration  total_call_duration  \n",
       "1                3              0                    5  \n",
       "2                1              0                    1  \n",
       "3                1             10                   18  \n",
       "4                3              0                   25  \n",
       "5                2              3                   29  \n",
       "...            ...            ...                  ...  \n",
       "53895            4            551                  593  \n",
       "53896            1              0                   25  \n",
       "53897            1              0                   38  \n",
       "53898            2            479                  501  \n",
       "53899            4           3130                 3190  \n",
       "\n",
       "[41546 rows x 9 columns]"
      ]
     },
     "execution_count": 22,
     "metadata": {},
     "output_type": "execute_result"
    }
   ],
   "source": [
    "telecom_dataset"
   ]
  },
  {
   "cell_type": "code",
   "execution_count": 23,
   "metadata": {
    "scrolled": true
   },
   "outputs": [
    {
     "data": {
      "text/plain": [
       "Text(0.5, 1.0, 'Соотношение входящих звонков к исходящим')"
      ]
     },
     "execution_count": 23,
     "metadata": {},
     "output_type": "execute_result"
    },
    {
     "data": {
      "image/png": "[encoded data removed]",
      "text/plain": [
       "<Figure size 432x288 with 1 Axes>"
      ]
     },
     "metadata": {
      "needs_background": "light"
     },
     "output_type": "display_data"
    }
   ],
   "source": [
    "sns.countplot(telecom_dataset['direction'])\n",
    "plt.title('Соотношение входящих звонков к исходящим')"
   ]
  },
  {
   "cell_type": "code",
   "execution_count": 24,
   "metadata": {},
   "outputs": [
    {
     "data": {
      "text/plain": [
       "Text(0.5, 1.0, 'Соотношение внешних звонков к внутренним')"
      ]
     },
     "execution_count": 24,
     "metadata": {},
     "output_type": "execute_result"
    },
    {
     "data": {
      "image/png": "[encoded data removed]",
      "text/plain": [
       "<Figure size 432x288 with 1 Axes>"
      ]
     },
     "metadata": {
      "needs_background": "light"
     },
     "output_type": "display_data"
    }
   ],
   "source": [
    "sns.countplot(telecom_dataset['internal'])\n",
    "plt.title('Соотношение внешних звонков к внутренним')"
   ]
  },
  {
   "cell_type": "code",
   "execution_count": 25,
   "metadata": {
    "scrolled": false
   },
   "outputs": [
    {
     "data": {
      "text/plain": [
       "Text(0.5, 1.0, 'Соотношение пропущенных звонков к принятым')"
      ]
     },
     "execution_count": 25,
     "metadata": {},
     "output_type": "execute_result"
    },
    {
     "data": {
      "image/png": "[encoded data removed]",
      "text/plain": [
       "<Figure size 432x288 with 1 Axes>"
      ]
     },
     "metadata": {
      "needs_background": "light"
     },
     "output_type": "display_data"
    }
   ],
   "source": [
    "sns.countplot(telecom_dataset['is_missed_call'])\n",
    "plt.title('Соотношение пропущенных звонков к принятым')"
   ]
  },
  {
   "cell_type": "code",
   "execution_count": 26,
   "metadata": {
    "scrolled": false
   },
   "outputs": [
    {
     "data": {
      "text/plain": [
       "count    41546.000000\n",
       "mean        16.900424\n",
       "std         59.749373\n",
       "min          1.000000\n",
       "25%          1.000000\n",
       "50%          4.000000\n",
       "75%         13.000000\n",
       "max       4817.000000\n",
       "Name: calls_count, dtype: float64"
      ]
     },
     "execution_count": 26,
     "metadata": {},
     "output_type": "execute_result"
    }
   ],
   "source": [
    "telecom_dataset['calls_count'].describe()"
   ]
  },
  {
   "cell_type": "code",
   "execution_count": 27,
   "metadata": {
    "scrolled": true
   },
   "outputs": [
    {
     "data": {
      "text/plain": [
       "<matplotlib.axes._subplots.AxesSubplot at 0x1eb4fe299c8>"
      ]
     },
     "execution_count": 27,
     "metadata": {},
     "output_type": "execute_result"
    },
    {
     "data": {
      "image/png": "[encoded data removed]",
      "text/plain": [
       "<Figure size 432x288 with 1 Axes>"
      ]
     },
     "metadata": {
      "needs_background": "light"
     },
     "output_type": "display_data"
    }
   ],
   "source": [
    "telecom_dataset['calls_count'].plot()\n"
   ]
  },
  {
   "cell_type": "markdown",
   "metadata": {},
   "source": [
    "На графике заметны выбросы, избавимся от них в датафрейме."
   ]
  },
  {
   "cell_type": "code",
   "execution_count": 28,
   "metadata": {},
   "outputs": [],
   "source": [
    "outburst=telecom_dataset['calls_count'].quantile(0.99)"
   ]
  },
  {
   "cell_type": "markdown",
   "metadata": {},
   "source": [
    "---\n",
    "\n",
    "### Комментарий наставника\n",
    "\n",
    "Допустим, но тут явно присутствуют аномалии, о которых писали в чате слака\n",
    "\n",
    "---"
   ]
  },
  {
   "cell_type": "code",
   "execution_count": 29,
   "metadata": {},
   "outputs": [],
   "source": [
    "telecom_dataset=telecom_dataset.query('calls_count<=@outburst')"
   ]
  },
  {
   "cell_type": "code",
   "execution_count": 30,
   "metadata": {
    "scrolled": true
   },
   "outputs": [
    {
     "data": {
      "text/plain": [
       "<matplotlib.axes._subplots.AxesSubplot at 0x1eb4ff053c8>"
      ]
     },
     "execution_count": 30,
     "metadata": {},
     "output_type": "execute_result"
    },
    {
     "data": {
      "image/png": "[encoded data removed]",
      "text/plain": [
       "<Figure size 432x288 with 1 Axes>"
      ]
     },
     "metadata": {
      "needs_background": "light"
     },
     "output_type": "display_data"
    }
   ],
   "source": [
    "telecom_dataset['calls_count'].plot()\n"
   ]
  },
  {
   "cell_type": "code",
   "execution_count": 31,
   "metadata": {
    "scrolled": false
   },
   "outputs": [
    {
     "data": {
      "text/plain": [
       "<matplotlib.axes._subplots.AxesSubplot at 0x1eb4fdd3488>"
      ]
     },
     "execution_count": 31,
     "metadata": {},
     "output_type": "execute_result"
    },
    {
     "data": {
      "image/png": "[encoded data removed]",
      "text/plain": [
       "<Figure size 432x288 with 1 Axes>"
      ]
     },
     "metadata": {
      "needs_background": "light"
     },
     "output_type": "display_data"
    }
   ],
   "source": [
    "telecom_dataset['call_duration'].plot()"
   ]
  },
  {
   "cell_type": "markdown",
   "metadata": {},
   "source": [
    "Также заметен выброс, избавимся от него"
   ]
  },
  {
   "cell_type": "code",
   "execution_count": 32,
   "metadata": {},
   "outputs": [],
   "source": [
    "outburst2=telecom_dataset['call_duration'].quantile(0.99)"
   ]
  },
  {
   "cell_type": "markdown",
   "metadata": {},
   "source": [
    "Установим смену равной 43200 секунд(или 12 часов) и по ним также отсечем значения."
   ]
  },
  {
   "cell_type": "code",
   "execution_count": 33,
   "metadata": {},
   "outputs": [],
   "source": [
    "outburst3=43200"
   ]
  },
  {
   "cell_type": "markdown",
   "metadata": {},
   "source": [
    "---\n",
    "\n",
    "### Комментарий наставника\n",
    "\n",
    "Рекомендую оценить по количеству секунд в сутках, и по ним отсекать значения. Так будет надежней.\n",
    "\n",
    "---"
   ]
  },
  {
   "cell_type": "code",
   "execution_count": 34,
   "metadata": {},
   "outputs": [],
   "source": [
    "telecom_dataset=telecom_dataset.query('call_duration<=@outburst2')"
   ]
  },
  {
   "cell_type": "code",
   "execution_count": 35,
   "metadata": {},
   "outputs": [],
   "source": [
    "telecom_dataset=telecom_dataset.query('call_duration<=@outburst3')"
   ]
  },
  {
   "cell_type": "code",
   "execution_count": 36,
   "metadata": {},
   "outputs": [
    {
     "data": {
      "text/plain": [
       "<matplotlib.axes._subplots.AxesSubplot at 0x1eb5111cd88>"
      ]
     },
     "execution_count": 36,
     "metadata": {},
     "output_type": "execute_result"
    },
    {
     "data": {
      "image/png": "[encoded data removed]",
      "text/plain": [
       "<Figure size 432x288 with 1 Axes>"
      ]
     },
     "metadata": {
      "needs_background": "light"
     },
     "output_type": "display_data"
    }
   ],
   "source": [
    "telecom_dataset['call_duration'].plot()"
   ]
  },
  {
   "cell_type": "code",
   "execution_count": 37,
   "metadata": {
    "scrolled": true
   },
   "outputs": [
    {
     "data": {
      "text/plain": [
       "count    40719.000000\n",
       "mean       891.853115\n",
       "std       1497.851847\n",
       "min          0.000000\n",
       "25%         65.000000\n",
       "50%        274.000000\n",
       "75%       1014.000000\n",
       "max      12195.000000\n",
       "Name: total_call_duration, dtype: float64"
      ]
     },
     "execution_count": 37,
     "metadata": {},
     "output_type": "execute_result"
    }
   ],
   "source": [
    "telecom_dataset['total_call_duration'].describe()"
   ]
  },
  {
   "cell_type": "code",
   "execution_count": 38,
   "metadata": {},
   "outputs": [],
   "source": [
    "telecom_dataset=telecom_dataset.query('total_call_duration<=@outburst3')"
   ]
  },
  {
   "cell_type": "code",
   "execution_count": 39,
   "metadata": {
    "scrolled": false
   },
   "outputs": [
    {
     "data": {
      "text/plain": [
       "<matplotlib.axes._subplots.AxesSubplot at 0x1eb5117c908>"
      ]
     },
     "execution_count": 39,
     "metadata": {},
     "output_type": "execute_result"
    },
    {
     "data": {
      "image/png": "[encoded data removed]",
      "text/plain": [
       "<Figure size 432x288 with 1 Axes>"
      ]
     },
     "metadata": {
      "needs_background": "light"
     },
     "output_type": "display_data"
    }
   ],
   "source": [
    "telecom_dataset['total_call_duration'].plot()"
   ]
  },
  {
   "cell_type": "markdown",
   "metadata": {},
   "source": [
    "Создадим датафрейм, сгрупированный по дате и оператору, чтобы посмотреть не выходят ли за рамки возможных теоретически значений(смена=12 часов) данные."
   ]
  },
  {
   "cell_type": "code",
   "execution_count": 40,
   "metadata": {},
   "outputs": [
    {
     "data": {
      "text/html": [
       "<div>\n",
       "<style scoped>\n",
       "    .dataframe tbody tr th:only-of-type {\n",
       "        vertical-align: middle;\n",
       "    }\n",
       "\n",
       "    .dataframe tbody tr th {\n",
       "        vertical-align: top;\n",
       "    }\n",
       "\n",
       "    .dataframe thead th {\n",
       "        text-align: right;\n",
       "    }\n",
       "</style>\n",
       "<table border=\"1\" class=\"dataframe\">\n",
       "  <thead>\n",
       "    <tr style=\"text-align: right;\">\n",
       "      <th></th>\n",
       "      <th>user_id</th>\n",
       "      <th>date</th>\n",
       "      <th>direction</th>\n",
       "      <th>internal</th>\n",
       "      <th>operator_id</th>\n",
       "      <th>is_missed_call</th>\n",
       "      <th>calls_count</th>\n",
       "      <th>call_duration</th>\n",
       "      <th>total_call_duration</th>\n",
       "    </tr>\n",
       "  </thead>\n",
       "  <tbody>\n",
       "    <tr>\n",
       "      <th>1</th>\n",
       "      <td>166377</td>\n",
       "      <td>2019-08-05</td>\n",
       "      <td>out</td>\n",
       "      <td>True</td>\n",
       "      <td>880022</td>\n",
       "      <td>True</td>\n",
       "      <td>3</td>\n",
       "      <td>0</td>\n",
       "      <td>5</td>\n",
       "    </tr>\n",
       "    <tr>\n",
       "      <th>2</th>\n",
       "      <td>166377</td>\n",
       "      <td>2019-08-05</td>\n",
       "      <td>out</td>\n",
       "      <td>True</td>\n",
       "      <td>880020</td>\n",
       "      <td>True</td>\n",
       "      <td>1</td>\n",
       "      <td>0</td>\n",
       "      <td>1</td>\n",
       "    </tr>\n",
       "    <tr>\n",
       "      <th>3</th>\n",
       "      <td>166377</td>\n",
       "      <td>2019-08-05</td>\n",
       "      <td>out</td>\n",
       "      <td>True</td>\n",
       "      <td>880020</td>\n",
       "      <td>False</td>\n",
       "      <td>1</td>\n",
       "      <td>10</td>\n",
       "      <td>18</td>\n",
       "    </tr>\n",
       "    <tr>\n",
       "      <th>4</th>\n",
       "      <td>166377</td>\n",
       "      <td>2019-08-05</td>\n",
       "      <td>out</td>\n",
       "      <td>False</td>\n",
       "      <td>880022</td>\n",
       "      <td>True</td>\n",
       "      <td>3</td>\n",
       "      <td>0</td>\n",
       "      <td>25</td>\n",
       "    </tr>\n",
       "    <tr>\n",
       "      <th>5</th>\n",
       "      <td>166377</td>\n",
       "      <td>2019-08-05</td>\n",
       "      <td>out</td>\n",
       "      <td>False</td>\n",
       "      <td>880020</td>\n",
       "      <td>False</td>\n",
       "      <td>2</td>\n",
       "      <td>3</td>\n",
       "      <td>29</td>\n",
       "    </tr>\n",
       "  </tbody>\n",
       "</table>\n",
       "</div>"
      ],
      "text/plain": [
       "   user_id        date direction  internal  operator_id  is_missed_call  \\\n",
       "1   166377  2019-08-05       out      True       880022            True   \n",
       "2   166377  2019-08-05       out      True       880020            True   \n",
       "3   166377  2019-08-05       out      True       880020           False   \n",
       "4   166377  2019-08-05       out     False       880022            True   \n",
       "5   166377  2019-08-05       out     False       880020           False   \n",
       "\n",
       "   calls_count  call_duration  total_call_duration  \n",
       "1            3              0                    5  \n",
       "2            1              0                    1  \n",
       "3            1             10                   18  \n",
       "4            3              0                   25  \n",
       "5            2              3                   29  "
      ]
     },
     "execution_count": 40,
     "metadata": {},
     "output_type": "execute_result"
    }
   ],
   "source": [
    "telecom_dataset.head()"
   ]
  },
  {
   "cell_type": "code",
   "execution_count": 41,
   "metadata": {},
   "outputs": [],
   "source": [
    "grouped_by_day=telecom_dataset.groupby(['date','user_id','operator_id','direction']).agg({'calls_count':'sum','call_duration':'sum','total_call_duration':'sum','is_missed_call':'sum'}).reset_index()"
   ]
  },
  {
   "cell_type": "code",
   "execution_count": 42,
   "metadata": {
    "scrolled": false
   },
   "outputs": [
    {
     "data": {
      "text/html": [
       "<div>\n",
       "<style scoped>\n",
       "    .dataframe tbody tr th:only-of-type {\n",
       "        vertical-align: middle;\n",
       "    }\n",
       "\n",
       "    .dataframe tbody tr th {\n",
       "        vertical-align: top;\n",
       "    }\n",
       "\n",
       "    .dataframe thead th {\n",
       "        text-align: right;\n",
       "    }\n",
       "</style>\n",
       "<table border=\"1\" class=\"dataframe\">\n",
       "  <thead>\n",
       "    <tr style=\"text-align: right;\">\n",
       "      <th></th>\n",
       "      <th>date</th>\n",
       "      <th>user_id</th>\n",
       "      <th>operator_id</th>\n",
       "      <th>direction</th>\n",
       "      <th>calls_count</th>\n",
       "      <th>call_duration</th>\n",
       "      <th>total_call_duration</th>\n",
       "      <th>is_missed_call</th>\n",
       "    </tr>\n",
       "  </thead>\n",
       "  <tbody>\n",
       "    <tr>\n",
       "      <th>0</th>\n",
       "      <td>2019-08-02</td>\n",
       "      <td>166406</td>\n",
       "      <td>879896</td>\n",
       "      <td>out</td>\n",
       "      <td>13</td>\n",
       "      <td>31</td>\n",
       "      <td>285</td>\n",
       "      <td>1.0</td>\n",
       "    </tr>\n",
       "    <tr>\n",
       "      <th>1</th>\n",
       "      <td>2019-08-02</td>\n",
       "      <td>166406</td>\n",
       "      <td>879898</td>\n",
       "      <td>out</td>\n",
       "      <td>5</td>\n",
       "      <td>132</td>\n",
       "      <td>198</td>\n",
       "      <td>1.0</td>\n",
       "    </tr>\n",
       "    <tr>\n",
       "      <th>2</th>\n",
       "      <td>2019-08-02</td>\n",
       "      <td>166406</td>\n",
       "      <td>880240</td>\n",
       "      <td>out</td>\n",
       "      <td>1</td>\n",
       "      <td>0</td>\n",
       "      <td>4</td>\n",
       "      <td>1.0</td>\n",
       "    </tr>\n",
       "    <tr>\n",
       "      <th>3</th>\n",
       "      <td>2019-08-03</td>\n",
       "      <td>166406</td>\n",
       "      <td>879896</td>\n",
       "      <td>in</td>\n",
       "      <td>1</td>\n",
       "      <td>6</td>\n",
       "      <td>15</td>\n",
       "      <td>0.0</td>\n",
       "    </tr>\n",
       "    <tr>\n",
       "      <th>4</th>\n",
       "      <td>2019-08-03</td>\n",
       "      <td>166406</td>\n",
       "      <td>879896</td>\n",
       "      <td>out</td>\n",
       "      <td>10</td>\n",
       "      <td>48</td>\n",
       "      <td>302</td>\n",
       "      <td>1.0</td>\n",
       "    </tr>\n",
       "  </tbody>\n",
       "</table>\n",
       "</div>"
      ],
      "text/plain": [
       "         date  user_id  operator_id direction  calls_count  call_duration  \\\n",
       "0  2019-08-02   166406       879896       out           13             31   \n",
       "1  2019-08-02   166406       879898       out            5            132   \n",
       "2  2019-08-02   166406       880240       out            1              0   \n",
       "3  2019-08-03   166406       879896        in            1              6   \n",
       "4  2019-08-03   166406       879896       out           10             48   \n",
       "\n",
       "   total_call_duration  is_missed_call  \n",
       "0                  285             1.0  \n",
       "1                  198             1.0  \n",
       "2                    4             1.0  \n",
       "3                   15             0.0  \n",
       "4                  302             1.0  "
      ]
     },
     "execution_count": 42,
     "metadata": {},
     "output_type": "execute_result"
    }
   ],
   "source": [
    "grouped_by_day.head()"
   ]
  },
  {
   "cell_type": "code",
   "execution_count": 43,
   "metadata": {
    "scrolled": true
   },
   "outputs": [
    {
     "data": {
      "text/html": [
       "<div>\n",
       "<style scoped>\n",
       "    .dataframe tbody tr th:only-of-type {\n",
       "        vertical-align: middle;\n",
       "    }\n",
       "\n",
       "    .dataframe tbody tr th {\n",
       "        vertical-align: top;\n",
       "    }\n",
       "\n",
       "    .dataframe thead th {\n",
       "        text-align: right;\n",
       "    }\n",
       "</style>\n",
       "<table border=\"1\" class=\"dataframe\">\n",
       "  <thead>\n",
       "    <tr style=\"text-align: right;\">\n",
       "      <th></th>\n",
       "      <th>user_id</th>\n",
       "      <th>operator_id</th>\n",
       "      <th>calls_count</th>\n",
       "      <th>call_duration</th>\n",
       "      <th>total_call_duration</th>\n",
       "      <th>is_missed_call</th>\n",
       "    </tr>\n",
       "  </thead>\n",
       "  <tbody>\n",
       "    <tr>\n",
       "      <th>count</th>\n",
       "      <td>26688.000000</td>\n",
       "      <td>26688.000000</td>\n",
       "      <td>26688.000000</td>\n",
       "      <td>26688.000000</td>\n",
       "      <td>26688.000000</td>\n",
       "      <td>26688.000000</td>\n",
       "    </tr>\n",
       "    <tr>\n",
       "      <th>mean</th>\n",
       "      <td>167291.052683</td>\n",
       "      <td>916270.733288</td>\n",
       "      <td>17.959270</td>\n",
       "      <td>1042.335769</td>\n",
       "      <td>1360.737672</td>\n",
       "      <td>0.521470</td>\n",
       "    </tr>\n",
       "    <tr>\n",
       "      <th>std</th>\n",
       "      <td>592.148841</td>\n",
       "      <td>20852.261046</td>\n",
       "      <td>31.730441</td>\n",
       "      <td>1515.726291</td>\n",
       "      <td>1972.072423</td>\n",
       "      <td>0.594554</td>\n",
       "    </tr>\n",
       "    <tr>\n",
       "      <th>min</th>\n",
       "      <td>166377.000000</td>\n",
       "      <td>879896.000000</td>\n",
       "      <td>1.000000</td>\n",
       "      <td>0.000000</td>\n",
       "      <td>0.000000</td>\n",
       "      <td>0.000000</td>\n",
       "    </tr>\n",
       "    <tr>\n",
       "      <th>25%</th>\n",
       "      <td>166800.000000</td>\n",
       "      <td>900746.000000</td>\n",
       "      <td>2.000000</td>\n",
       "      <td>92.000000</td>\n",
       "      <td>141.000000</td>\n",
       "      <td>0.000000</td>\n",
       "    </tr>\n",
       "    <tr>\n",
       "      <th>50%</th>\n",
       "      <td>167175.000000</td>\n",
       "      <td>913788.000000</td>\n",
       "      <td>5.000000</td>\n",
       "      <td>421.000000</td>\n",
       "      <td>555.000000</td>\n",
       "      <td>0.000000</td>\n",
       "    </tr>\n",
       "    <tr>\n",
       "      <th>75%</th>\n",
       "      <td>167799.000000</td>\n",
       "      <td>936382.000000</td>\n",
       "      <td>18.000000</td>\n",
       "      <td>1327.250000</td>\n",
       "      <td>1714.000000</td>\n",
       "      <td>1.000000</td>\n",
       "    </tr>\n",
       "    <tr>\n",
       "      <th>max</th>\n",
       "      <td>168606.000000</td>\n",
       "      <td>973286.000000</td>\n",
       "      <td>310.000000</td>\n",
       "      <td>9180.000000</td>\n",
       "      <td>15504.000000</td>\n",
       "      <td>2.000000</td>\n",
       "    </tr>\n",
       "  </tbody>\n",
       "</table>\n",
       "</div>"
      ],
      "text/plain": [
       "             user_id    operator_id   calls_count  call_duration  \\\n",
       "count   26688.000000   26688.000000  26688.000000   26688.000000   \n",
       "mean   167291.052683  916270.733288     17.959270    1042.335769   \n",
       "std       592.148841   20852.261046     31.730441    1515.726291   \n",
       "min    166377.000000  879896.000000      1.000000       0.000000   \n",
       "25%    166800.000000  900746.000000      2.000000      92.000000   \n",
       "50%    167175.000000  913788.000000      5.000000     421.000000   \n",
       "75%    167799.000000  936382.000000     18.000000    1327.250000   \n",
       "max    168606.000000  973286.000000    310.000000    9180.000000   \n",
       "\n",
       "       total_call_duration  is_missed_call  \n",
       "count         26688.000000    26688.000000  \n",
       "mean           1360.737672        0.521470  \n",
       "std            1972.072423        0.594554  \n",
       "min               0.000000        0.000000  \n",
       "25%             141.000000        0.000000  \n",
       "50%             555.000000        0.000000  \n",
       "75%            1714.000000        1.000000  \n",
       "max           15504.000000        2.000000  "
      ]
     },
     "execution_count": 43,
     "metadata": {},
     "output_type": "execute_result"
    }
   ],
   "source": [
    "grouped_by_day.describe()"
   ]
  },
  {
   "cell_type": "markdown",
   "metadata": {},
   "source": [
    "Максимальные значения call_duration,total_call_duration - не превышают 43200 секунд или 12 часов, а значит мы можем считать данные достоверными."
   ]
  },
  {
   "cell_type": "markdown",
   "metadata": {},
   "source": [
    "### Определение неэффективных операторов"
   ]
  },
  {
   "cell_type": "code",
   "execution_count": 44,
   "metadata": {},
   "outputs": [],
   "source": [
    "import numpy as np"
   ]
  },
  {
   "cell_type": "code",
   "execution_count": 45,
   "metadata": {
    "scrolled": true
   },
   "outputs": [
    {
     "data": {
      "text/html": [
       "<div>\n",
       "<style scoped>\n",
       "    .dataframe tbody tr th:only-of-type {\n",
       "        vertical-align: middle;\n",
       "    }\n",
       "\n",
       "    .dataframe tbody tr th {\n",
       "        vertical-align: top;\n",
       "    }\n",
       "\n",
       "    .dataframe thead th {\n",
       "        text-align: right;\n",
       "    }\n",
       "</style>\n",
       "<table border=\"1\" class=\"dataframe\">\n",
       "  <thead>\n",
       "    <tr style=\"text-align: right;\">\n",
       "      <th></th>\n",
       "      <th>user_id</th>\n",
       "      <th>date</th>\n",
       "      <th>direction</th>\n",
       "      <th>internal</th>\n",
       "      <th>operator_id</th>\n",
       "      <th>is_missed_call</th>\n",
       "      <th>calls_count</th>\n",
       "      <th>call_duration</th>\n",
       "      <th>total_call_duration</th>\n",
       "    </tr>\n",
       "  </thead>\n",
       "  <tbody>\n",
       "    <tr>\n",
       "      <th>1</th>\n",
       "      <td>166377</td>\n",
       "      <td>2019-08-05</td>\n",
       "      <td>out</td>\n",
       "      <td>True</td>\n",
       "      <td>880022</td>\n",
       "      <td>True</td>\n",
       "      <td>3</td>\n",
       "      <td>0</td>\n",
       "      <td>5</td>\n",
       "    </tr>\n",
       "    <tr>\n",
       "      <th>2</th>\n",
       "      <td>166377</td>\n",
       "      <td>2019-08-05</td>\n",
       "      <td>out</td>\n",
       "      <td>True</td>\n",
       "      <td>880020</td>\n",
       "      <td>True</td>\n",
       "      <td>1</td>\n",
       "      <td>0</td>\n",
       "      <td>1</td>\n",
       "    </tr>\n",
       "    <tr>\n",
       "      <th>3</th>\n",
       "      <td>166377</td>\n",
       "      <td>2019-08-05</td>\n",
       "      <td>out</td>\n",
       "      <td>True</td>\n",
       "      <td>880020</td>\n",
       "      <td>False</td>\n",
       "      <td>1</td>\n",
       "      <td>10</td>\n",
       "      <td>18</td>\n",
       "    </tr>\n",
       "    <tr>\n",
       "      <th>4</th>\n",
       "      <td>166377</td>\n",
       "      <td>2019-08-05</td>\n",
       "      <td>out</td>\n",
       "      <td>False</td>\n",
       "      <td>880022</td>\n",
       "      <td>True</td>\n",
       "      <td>3</td>\n",
       "      <td>0</td>\n",
       "      <td>25</td>\n",
       "    </tr>\n",
       "    <tr>\n",
       "      <th>5</th>\n",
       "      <td>166377</td>\n",
       "      <td>2019-08-05</td>\n",
       "      <td>out</td>\n",
       "      <td>False</td>\n",
       "      <td>880020</td>\n",
       "      <td>False</td>\n",
       "      <td>2</td>\n",
       "      <td>3</td>\n",
       "      <td>29</td>\n",
       "    </tr>\n",
       "  </tbody>\n",
       "</table>\n",
       "</div>"
      ],
      "text/plain": [
       "   user_id        date direction  internal  operator_id  is_missed_call  \\\n",
       "1   166377  2019-08-05       out      True       880022            True   \n",
       "2   166377  2019-08-05       out      True       880020            True   \n",
       "3   166377  2019-08-05       out      True       880020           False   \n",
       "4   166377  2019-08-05       out     False       880022            True   \n",
       "5   166377  2019-08-05       out     False       880020           False   \n",
       "\n",
       "   calls_count  call_duration  total_call_duration  \n",
       "1            3              0                    5  \n",
       "2            1              0                    1  \n",
       "3            1             10                   18  \n",
       "4            3              0                   25  \n",
       "5            2              3                   29  "
      ]
     },
     "execution_count": 45,
     "metadata": {},
     "output_type": "execute_result"
    }
   ],
   "source": [
    "telecom_dataset.head()"
   ]
  },
  {
   "cell_type": "code",
   "execution_count": 46,
   "metadata": {},
   "outputs": [],
   "source": [
    "grouped_by_day['waiting']=grouped_by_day['total_call_duration']-grouped_by_day['call_duration']"
   ]
  },
  {
   "cell_type": "code",
   "execution_count": 47,
   "metadata": {
    "scrolled": true
   },
   "outputs": [
    {
     "data": {
      "text/plain": [
       "count    19584.000000\n",
       "mean         0.710631\n",
       "std          0.624818\n",
       "min          0.000000\n",
       "25%          0.000000\n",
       "50%          1.000000\n",
       "75%          1.000000\n",
       "max          4.000000\n",
       "Name: is_missed_call, dtype: float64"
      ]
     },
     "execution_count": 47,
     "metadata": {},
     "output_type": "execute_result"
    }
   ],
   "source": [
    "grouped_by_day.groupby(['date','operator_id'])['is_missed_call'].sum().describe()"
   ]
  },
  {
   "cell_type": "markdown",
   "metadata": {},
   "source": [
    "Мы видим, что кол-во пропущенных вызовов в день на оператора не велико и достигает максимум 4 звонков."
   ]
  },
  {
   "cell_type": "code",
   "execution_count": 48,
   "metadata": {},
   "outputs": [
    {
     "data": {
      "text/html": [
       "<div>\n",
       "<style scoped>\n",
       "    .dataframe tbody tr th:only-of-type {\n",
       "        vertical-align: middle;\n",
       "    }\n",
       "\n",
       "    .dataframe tbody tr th {\n",
       "        vertical-align: top;\n",
       "    }\n",
       "\n",
       "    .dataframe thead th {\n",
       "        text-align: right;\n",
       "    }\n",
       "</style>\n",
       "<table border=\"1\" class=\"dataframe\">\n",
       "  <thead>\n",
       "    <tr style=\"text-align: right;\">\n",
       "      <th></th>\n",
       "      <th></th>\n",
       "      <th>calls_count</th>\n",
       "      <th>call_duration</th>\n",
       "      <th>total_call_duration</th>\n",
       "      <th>is_missed_call</th>\n",
       "      <th>waiting</th>\n",
       "    </tr>\n",
       "    <tr>\n",
       "      <th>date</th>\n",
       "      <th>user_id</th>\n",
       "      <th></th>\n",
       "      <th></th>\n",
       "      <th></th>\n",
       "      <th></th>\n",
       "      <th></th>\n",
       "    </tr>\n",
       "  </thead>\n",
       "  <tbody>\n",
       "    <tr>\n",
       "      <th>2019-08-02</th>\n",
       "      <th>166406</th>\n",
       "      <td>6.333333</td>\n",
       "      <td>54.333333</td>\n",
       "      <td>162.333333</td>\n",
       "      <td>1.000000</td>\n",
       "      <td>108.00</td>\n",
       "    </tr>\n",
       "    <tr>\n",
       "      <th>2019-08-03</th>\n",
       "      <th>166406</th>\n",
       "      <td>9.000000</td>\n",
       "      <td>320.666667</td>\n",
       "      <td>474.666667</td>\n",
       "      <td>0.666667</td>\n",
       "      <td>154.00</td>\n",
       "    </tr>\n",
       "    <tr>\n",
       "      <th>2019-08-04</th>\n",
       "      <th>166406</th>\n",
       "      <td>2.000000</td>\n",
       "      <td>57.000000</td>\n",
       "      <td>74.500000</td>\n",
       "      <td>1.000000</td>\n",
       "      <td>17.50</td>\n",
       "    </tr>\n",
       "    <tr>\n",
       "      <th rowspan=\"2\" valign=\"top\">2019-08-05</th>\n",
       "      <th>166377</th>\n",
       "      <td>9.000000</td>\n",
       "      <td>6.500000</td>\n",
       "      <td>64.000000</td>\n",
       "      <td>2.000000</td>\n",
       "      <td>57.50</td>\n",
       "    </tr>\n",
       "    <tr>\n",
       "      <th>166406</th>\n",
       "      <td>41.250000</td>\n",
       "      <td>1883.750000</td>\n",
       "      <td>2341.000000</td>\n",
       "      <td>0.500000</td>\n",
       "      <td>457.25</td>\n",
       "    </tr>\n",
       "    <tr>\n",
       "      <th>...</th>\n",
       "      <th>...</th>\n",
       "      <td>...</td>\n",
       "      <td>...</td>\n",
       "      <td>...</td>\n",
       "      <td>...</td>\n",
       "      <td>...</td>\n",
       "    </tr>\n",
       "    <tr>\n",
       "      <th rowspan=\"5\" valign=\"top\">2019-11-28</th>\n",
       "      <th>168522</th>\n",
       "      <td>2.000000</td>\n",
       "      <td>211.000000</td>\n",
       "      <td>247.000000</td>\n",
       "      <td>0.000000</td>\n",
       "      <td>36.00</td>\n",
       "    </tr>\n",
       "    <tr>\n",
       "      <th>168579</th>\n",
       "      <td>2.000000</td>\n",
       "      <td>17.000000</td>\n",
       "      <td>105.000000</td>\n",
       "      <td>0.000000</td>\n",
       "      <td>88.00</td>\n",
       "    </tr>\n",
       "    <tr>\n",
       "      <th>168583</th>\n",
       "      <td>2.000000</td>\n",
       "      <td>82.000000</td>\n",
       "      <td>110.000000</td>\n",
       "      <td>0.000000</td>\n",
       "      <td>28.00</td>\n",
       "    </tr>\n",
       "    <tr>\n",
       "      <th>168598</th>\n",
       "      <td>7.000000</td>\n",
       "      <td>1316.000000</td>\n",
       "      <td>1359.000000</td>\n",
       "      <td>0.000000</td>\n",
       "      <td>43.00</td>\n",
       "    </tr>\n",
       "    <tr>\n",
       "      <th>168601</th>\n",
       "      <td>2.000000</td>\n",
       "      <td>0.000000</td>\n",
       "      <td>67.000000</td>\n",
       "      <td>1.000000</td>\n",
       "      <td>67.00</td>\n",
       "    </tr>\n",
       "  </tbody>\n",
       "</table>\n",
       "<p>8577 rows × 5 columns</p>\n",
       "</div>"
      ],
      "text/plain": [
       "                    calls_count  call_duration  total_call_duration  \\\n",
       "date       user_id                                                    \n",
       "2019-08-02 166406      6.333333      54.333333           162.333333   \n",
       "2019-08-03 166406      9.000000     320.666667           474.666667   \n",
       "2019-08-04 166406      2.000000      57.000000            74.500000   \n",
       "2019-08-05 166377      9.000000       6.500000            64.000000   \n",
       "           166406     41.250000    1883.750000          2341.000000   \n",
       "...                         ...            ...                  ...   \n",
       "2019-11-28 168522      2.000000     211.000000           247.000000   \n",
       "           168579      2.000000      17.000000           105.000000   \n",
       "           168583      2.000000      82.000000           110.000000   \n",
       "           168598      7.000000    1316.000000          1359.000000   \n",
       "           168601      2.000000       0.000000            67.000000   \n",
       "\n",
       "                    is_missed_call  waiting  \n",
       "date       user_id                           \n",
       "2019-08-02 166406         1.000000   108.00  \n",
       "2019-08-03 166406         0.666667   154.00  \n",
       "2019-08-04 166406         1.000000    17.50  \n",
       "2019-08-05 166377         2.000000    57.50  \n",
       "           166406         0.500000   457.25  \n",
       "...                            ...      ...  \n",
       "2019-11-28 168522         0.000000    36.00  \n",
       "           168579         0.000000    88.00  \n",
       "           168583         0.000000    28.00  \n",
       "           168598         0.000000    43.00  \n",
       "           168601         1.000000    67.00  \n",
       "\n",
       "[8577 rows x 5 columns]"
      ]
     },
     "execution_count": 48,
     "metadata": {},
     "output_type": "execute_result"
    }
   ],
   "source": [
    "grouped_by_day.groupby(['date','user_id'])[['calls_count',\n",
    "       'call_duration', 'total_call_duration', 'is_missed_call', 'waiting']].mean()"
   ]
  },
  {
   "cell_type": "markdown",
   "metadata": {},
   "source": [
    "Для некоторых клиентов характерно большое кол-во звонков, тогда как для других - небольшое."
   ]
  },
  {
   "cell_type": "markdown",
   "metadata": {},
   "source": [
    "---\n",
    "\n",
    "### Комментарий наставника\n",
    "\n",
    "Здорово! Соглашусь с этим, но также стоит учитывать клиентские особенности.\n",
    "\n",
    "То есть, оператор может работать на какого-то клиента, а этот клиент обрабатывает 10 звонков за сутки. Согласись, это мало, но это не вина оператора, он мог все эти вызовы успешно принять.\n",
    "\n",
    "С другой стороны, оператор у крупного клиента обработает 100 вызовов, но пропустит 200. Тут уже совсем о других масштабах речь, верно же?\n",
    "\n",
    "Поэтому учти ещё и то, сколько клиент в день имел звонков.\n",
    "\n",
    "---"
   ]
  },
  {
   "cell_type": "code",
   "execution_count": 49,
   "metadata": {},
   "outputs": [],
   "source": [
    "grouped_by_operator=telecom_dataset.groupby(['operator_id','direction']).agg({'calls_count':'sum','call_duration':'sum','total_call_duration':'sum','is_missed_call':'sum'}).reset_index()"
   ]
  },
  {
   "cell_type": "code",
   "execution_count": 50,
   "metadata": {},
   "outputs": [],
   "source": [
    "grouped_by_operator['percentage_of_waiting']=(grouped_by_operator['total_call_duration']-grouped_by_operator['call_duration'])/grouped_by_operator['total_call_duration']"
   ]
  },
  {
   "cell_type": "code",
   "execution_count": 51,
   "metadata": {},
   "outputs": [
    {
     "data": {
      "text/html": [
       "<div>\n",
       "<style scoped>\n",
       "    .dataframe tbody tr th:only-of-type {\n",
       "        vertical-align: middle;\n",
       "    }\n",
       "\n",
       "    .dataframe tbody tr th {\n",
       "        vertical-align: top;\n",
       "    }\n",
       "\n",
       "    .dataframe thead th {\n",
       "        text-align: right;\n",
       "    }\n",
       "</style>\n",
       "<table border=\"1\" class=\"dataframe\">\n",
       "  <thead>\n",
       "    <tr style=\"text-align: right;\">\n",
       "      <th></th>\n",
       "      <th>operator_id</th>\n",
       "      <th>direction</th>\n",
       "      <th>calls_count</th>\n",
       "      <th>call_duration</th>\n",
       "      <th>total_call_duration</th>\n",
       "      <th>is_missed_call</th>\n",
       "      <th>percentage_of_waiting</th>\n",
       "    </tr>\n",
       "  </thead>\n",
       "  <tbody>\n",
       "    <tr>\n",
       "      <th>0</th>\n",
       "      <td>879896</td>\n",
       "      <td>in</td>\n",
       "      <td>58</td>\n",
       "      <td>5616</td>\n",
       "      <td>6190</td>\n",
       "      <td>0.0</td>\n",
       "      <td>0.092730</td>\n",
       "    </tr>\n",
       "    <tr>\n",
       "      <th>1</th>\n",
       "      <td>879896</td>\n",
       "      <td>out</td>\n",
       "      <td>742</td>\n",
       "      <td>47630</td>\n",
       "      <td>58233</td>\n",
       "      <td>47.0</td>\n",
       "      <td>0.182079</td>\n",
       "    </tr>\n",
       "    <tr>\n",
       "      <th>2</th>\n",
       "      <td>879898</td>\n",
       "      <td>in</td>\n",
       "      <td>104</td>\n",
       "      <td>6353</td>\n",
       "      <td>8033</td>\n",
       "      <td>0.0</td>\n",
       "      <td>0.209137</td>\n",
       "    </tr>\n",
       "    <tr>\n",
       "      <th>3</th>\n",
       "      <td>879898</td>\n",
       "      <td>out</td>\n",
       "      <td>7209</td>\n",
       "      <td>251038</td>\n",
       "      <td>353255</td>\n",
       "      <td>89.0</td>\n",
       "      <td>0.289358</td>\n",
       "    </tr>\n",
       "    <tr>\n",
       "      <th>4</th>\n",
       "      <td>880020</td>\n",
       "      <td>in</td>\n",
       "      <td>7</td>\n",
       "      <td>299</td>\n",
       "      <td>353</td>\n",
       "      <td>0.0</td>\n",
       "      <td>0.152975</td>\n",
       "    </tr>\n",
       "    <tr>\n",
       "      <th>...</th>\n",
       "      <td>...</td>\n",
       "      <td>...</td>\n",
       "      <td>...</td>\n",
       "      <td>...</td>\n",
       "      <td>...</td>\n",
       "      <td>...</td>\n",
       "      <td>...</td>\n",
       "    </tr>\n",
       "    <tr>\n",
       "      <th>1631</th>\n",
       "      <td>972412</td>\n",
       "      <td>out</td>\n",
       "      <td>60</td>\n",
       "      <td>3378</td>\n",
       "      <td>4403</td>\n",
       "      <td>2.0</td>\n",
       "      <td>0.232796</td>\n",
       "    </tr>\n",
       "    <tr>\n",
       "      <th>1632</th>\n",
       "      <td>972460</td>\n",
       "      <td>in</td>\n",
       "      <td>1</td>\n",
       "      <td>14</td>\n",
       "      <td>18</td>\n",
       "      <td>0.0</td>\n",
       "      <td>0.222222</td>\n",
       "    </tr>\n",
       "    <tr>\n",
       "      <th>1633</th>\n",
       "      <td>972460</td>\n",
       "      <td>out</td>\n",
       "      <td>50</td>\n",
       "      <td>1204</td>\n",
       "      <td>1820</td>\n",
       "      <td>3.0</td>\n",
       "      <td>0.338462</td>\n",
       "    </tr>\n",
       "    <tr>\n",
       "      <th>1634</th>\n",
       "      <td>973120</td>\n",
       "      <td>out</td>\n",
       "      <td>3</td>\n",
       "      <td>5</td>\n",
       "      <td>25</td>\n",
       "      <td>1.0</td>\n",
       "      <td>0.800000</td>\n",
       "    </tr>\n",
       "    <tr>\n",
       "      <th>1635</th>\n",
       "      <td>973286</td>\n",
       "      <td>in</td>\n",
       "      <td>2</td>\n",
       "      <td>17</td>\n",
       "      <td>105</td>\n",
       "      <td>0.0</td>\n",
       "      <td>0.838095</td>\n",
       "    </tr>\n",
       "  </tbody>\n",
       "</table>\n",
       "<p>1636 rows × 7 columns</p>\n",
       "</div>"
      ],
      "text/plain": [
       "      operator_id direction  calls_count  call_duration  total_call_duration  \\\n",
       "0          879896        in           58           5616                 6190   \n",
       "1          879896       out          742          47630                58233   \n",
       "2          879898        in          104           6353                 8033   \n",
       "3          879898       out         7209         251038               353255   \n",
       "4          880020        in            7            299                  353   \n",
       "...           ...       ...          ...            ...                  ...   \n",
       "1631       972412       out           60           3378                 4403   \n",
       "1632       972460        in            1             14                   18   \n",
       "1633       972460       out           50           1204                 1820   \n",
       "1634       973120       out            3              5                   25   \n",
       "1635       973286        in            2             17                  105   \n",
       "\n",
       "      is_missed_call  percentage_of_waiting  \n",
       "0                0.0               0.092730  \n",
       "1               47.0               0.182079  \n",
       "2                0.0               0.209137  \n",
       "3               89.0               0.289358  \n",
       "4                0.0               0.152975  \n",
       "...              ...                    ...  \n",
       "1631             2.0               0.232796  \n",
       "1632             0.0               0.222222  \n",
       "1633             3.0               0.338462  \n",
       "1634             1.0               0.800000  \n",
       "1635             0.0               0.838095  \n",
       "\n",
       "[1636 rows x 7 columns]"
      ]
     },
     "execution_count": 51,
     "metadata": {},
     "output_type": "execute_result"
    }
   ],
   "source": [
    "grouped_by_operator"
   ]
  },
  {
   "cell_type": "code",
   "execution_count": 52,
   "metadata": {},
   "outputs": [],
   "source": [
    "missed=grouped_by_day.groupby(['user_id','operator_id']).agg({'is_missed_call':'sum','calls_count':'sum'}).reset_index()"
   ]
  },
  {
   "cell_type": "code",
   "execution_count": 53,
   "metadata": {},
   "outputs": [],
   "source": [
    "missed['percentage']=missed['is_missed_call']/missed['calls_count']"
   ]
  },
  {
   "cell_type": "code",
   "execution_count": 54,
   "metadata": {
    "scrolled": true
   },
   "outputs": [
    {
     "data": {
      "text/plain": [
       "count    1092.000000\n",
       "mean        0.101509\n",
       "std         0.168654\n",
       "min         0.000000\n",
       "25%         0.010118\n",
       "50%         0.043720\n",
       "75%         0.121029\n",
       "max         1.000000\n",
       "Name: percentage, dtype: float64"
      ]
     },
     "execution_count": 54,
     "metadata": {},
     "output_type": "execute_result"
    }
   ],
   "source": [
    "missed['percentage'].describe()"
   ]
  },
  {
   "cell_type": "code",
   "execution_count": 55,
   "metadata": {},
   "outputs": [
    {
     "data": {
      "text/html": [
       "<div>\n",
       "<style scoped>\n",
       "    .dataframe tbody tr th:only-of-type {\n",
       "        vertical-align: middle;\n",
       "    }\n",
       "\n",
       "    .dataframe tbody tr th {\n",
       "        vertical-align: top;\n",
       "    }\n",
       "\n",
       "    .dataframe thead th {\n",
       "        text-align: right;\n",
       "    }\n",
       "</style>\n",
       "<table border=\"1\" class=\"dataframe\">\n",
       "  <thead>\n",
       "    <tr style=\"text-align: right;\">\n",
       "      <th></th>\n",
       "      <th>date</th>\n",
       "      <th>user_id</th>\n",
       "      <th>operator_id</th>\n",
       "      <th>direction</th>\n",
       "      <th>calls_count</th>\n",
       "      <th>call_duration</th>\n",
       "      <th>total_call_duration</th>\n",
       "      <th>is_missed_call</th>\n",
       "      <th>waiting</th>\n",
       "    </tr>\n",
       "  </thead>\n",
       "  <tbody>\n",
       "    <tr>\n",
       "      <th>0</th>\n",
       "      <td>2019-08-02</td>\n",
       "      <td>166406</td>\n",
       "      <td>879896</td>\n",
       "      <td>out</td>\n",
       "      <td>13</td>\n",
       "      <td>31</td>\n",
       "      <td>285</td>\n",
       "      <td>1.0</td>\n",
       "      <td>254</td>\n",
       "    </tr>\n",
       "    <tr>\n",
       "      <th>1</th>\n",
       "      <td>2019-08-02</td>\n",
       "      <td>166406</td>\n",
       "      <td>879898</td>\n",
       "      <td>out</td>\n",
       "      <td>5</td>\n",
       "      <td>132</td>\n",
       "      <td>198</td>\n",
       "      <td>1.0</td>\n",
       "      <td>66</td>\n",
       "    </tr>\n",
       "    <tr>\n",
       "      <th>2</th>\n",
       "      <td>2019-08-02</td>\n",
       "      <td>166406</td>\n",
       "      <td>880240</td>\n",
       "      <td>out</td>\n",
       "      <td>1</td>\n",
       "      <td>0</td>\n",
       "      <td>4</td>\n",
       "      <td>1.0</td>\n",
       "      <td>4</td>\n",
       "    </tr>\n",
       "    <tr>\n",
       "      <th>3</th>\n",
       "      <td>2019-08-03</td>\n",
       "      <td>166406</td>\n",
       "      <td>879896</td>\n",
       "      <td>in</td>\n",
       "      <td>1</td>\n",
       "      <td>6</td>\n",
       "      <td>15</td>\n",
       "      <td>0.0</td>\n",
       "      <td>9</td>\n",
       "    </tr>\n",
       "    <tr>\n",
       "      <th>4</th>\n",
       "      <td>2019-08-03</td>\n",
       "      <td>166406</td>\n",
       "      <td>879896</td>\n",
       "      <td>out</td>\n",
       "      <td>10</td>\n",
       "      <td>48</td>\n",
       "      <td>302</td>\n",
       "      <td>1.0</td>\n",
       "      <td>254</td>\n",
       "    </tr>\n",
       "    <tr>\n",
       "      <th>...</th>\n",
       "      <td>...</td>\n",
       "      <td>...</td>\n",
       "      <td>...</td>\n",
       "      <td>...</td>\n",
       "      <td>...</td>\n",
       "      <td>...</td>\n",
       "      <td>...</td>\n",
       "      <td>...</td>\n",
       "      <td>...</td>\n",
       "    </tr>\n",
       "    <tr>\n",
       "      <th>26683</th>\n",
       "      <td>2019-11-28</td>\n",
       "      <td>168522</td>\n",
       "      <td>951614</td>\n",
       "      <td>in</td>\n",
       "      <td>2</td>\n",
       "      <td>211</td>\n",
       "      <td>247</td>\n",
       "      <td>0.0</td>\n",
       "      <td>36</td>\n",
       "    </tr>\n",
       "    <tr>\n",
       "      <th>26684</th>\n",
       "      <td>2019-11-28</td>\n",
       "      <td>168579</td>\n",
       "      <td>973286</td>\n",
       "      <td>in</td>\n",
       "      <td>2</td>\n",
       "      <td>17</td>\n",
       "      <td>105</td>\n",
       "      <td>0.0</td>\n",
       "      <td>88</td>\n",
       "    </tr>\n",
       "    <tr>\n",
       "      <th>26685</th>\n",
       "      <td>2019-11-28</td>\n",
       "      <td>168583</td>\n",
       "      <td>962062</td>\n",
       "      <td>in</td>\n",
       "      <td>2</td>\n",
       "      <td>82</td>\n",
       "      <td>110</td>\n",
       "      <td>0.0</td>\n",
       "      <td>28</td>\n",
       "    </tr>\n",
       "    <tr>\n",
       "      <th>26686</th>\n",
       "      <td>2019-11-28</td>\n",
       "      <td>168598</td>\n",
       "      <td>958394</td>\n",
       "      <td>in</td>\n",
       "      <td>7</td>\n",
       "      <td>1316</td>\n",
       "      <td>1359</td>\n",
       "      <td>0.0</td>\n",
       "      <td>43</td>\n",
       "    </tr>\n",
       "    <tr>\n",
       "      <th>26687</th>\n",
       "      <td>2019-11-28</td>\n",
       "      <td>168601</td>\n",
       "      <td>952914</td>\n",
       "      <td>out</td>\n",
       "      <td>2</td>\n",
       "      <td>0</td>\n",
       "      <td>67</td>\n",
       "      <td>1.0</td>\n",
       "      <td>67</td>\n",
       "    </tr>\n",
       "  </tbody>\n",
       "</table>\n",
       "<p>26688 rows × 9 columns</p>\n",
       "</div>"
      ],
      "text/plain": [
       "             date  user_id  operator_id direction  calls_count  call_duration  \\\n",
       "0      2019-08-02   166406       879896       out           13             31   \n",
       "1      2019-08-02   166406       879898       out            5            132   \n",
       "2      2019-08-02   166406       880240       out            1              0   \n",
       "3      2019-08-03   166406       879896        in            1              6   \n",
       "4      2019-08-03   166406       879896       out           10             48   \n",
       "...           ...      ...          ...       ...          ...            ...   \n",
       "26683  2019-11-28   168522       951614        in            2            211   \n",
       "26684  2019-11-28   168579       973286        in            2             17   \n",
       "26685  2019-11-28   168583       962062        in            2             82   \n",
       "26686  2019-11-28   168598       958394        in            7           1316   \n",
       "26687  2019-11-28   168601       952914       out            2              0   \n",
       "\n",
       "       total_call_duration  is_missed_call  waiting  \n",
       "0                      285             1.0      254  \n",
       "1                      198             1.0       66  \n",
       "2                        4             1.0        4  \n",
       "3                       15             0.0        9  \n",
       "4                      302             1.0      254  \n",
       "...                    ...             ...      ...  \n",
       "26683                  247             0.0       36  \n",
       "26684                  105             0.0       88  \n",
       "26685                  110             0.0       28  \n",
       "26686                 1359             0.0       43  \n",
       "26687                   67             1.0       67  \n",
       "\n",
       "[26688 rows x 9 columns]"
      ]
     },
     "execution_count": 55,
     "metadata": {},
     "output_type": "execute_result"
    }
   ],
   "source": [
    "grouped_by_day"
   ]
  },
  {
   "cell_type": "code",
   "execution_count": 56,
   "metadata": {},
   "outputs": [],
   "source": [
    "grouped_by_user=grouped_by_day.groupby(['user_id','date']).agg({'operator_id':'max','calls_count':'sum','call_duration':'sum','total_call_duration':'sum','is_missed_call':'sum','waiting':'sum'}).reset_index()"
   ]
  },
  {
   "cell_type": "code",
   "execution_count": 57,
   "metadata": {
    "scrolled": false
   },
   "outputs": [],
   "source": [
    "pivot_userids=grouped_by_user.pivot_table(index=['user_id'],values=['calls_count', 'call_duration',\n",
    "       'total_call_duration', 'is_missed_call', 'waiting'],aggfunc='mean')"
   ]
  },
  {
   "cell_type": "code",
   "execution_count": 58,
   "metadata": {
    "scrolled": true
   },
   "outputs": [
    {
     "data": {
      "text/html": [
       "<div>\n",
       "<style scoped>\n",
       "    .dataframe tbody tr th:only-of-type {\n",
       "        vertical-align: middle;\n",
       "    }\n",
       "\n",
       "    .dataframe tbody tr th {\n",
       "        vertical-align: top;\n",
       "    }\n",
       "\n",
       "    .dataframe thead th {\n",
       "        text-align: right;\n",
       "    }\n",
       "</style>\n",
       "<table border=\"1\" class=\"dataframe\">\n",
       "  <thead>\n",
       "    <tr style=\"text-align: right;\">\n",
       "      <th></th>\n",
       "      <th>call_duration</th>\n",
       "      <th>calls_count</th>\n",
       "      <th>is_missed_call</th>\n",
       "      <th>total_call_duration</th>\n",
       "      <th>waiting</th>\n",
       "    </tr>\n",
       "  </thead>\n",
       "  <tbody>\n",
       "    <tr>\n",
       "      <th>count</th>\n",
       "      <td>290.000000</td>\n",
       "      <td>290.000000</td>\n",
       "      <td>290.000000</td>\n",
       "      <td>290.000000</td>\n",
       "      <td>290.000000</td>\n",
       "    </tr>\n",
       "    <tr>\n",
       "      <th>mean</th>\n",
       "      <td>2362.130309</td>\n",
       "      <td>46.376650</td>\n",
       "      <td>1.301273</td>\n",
       "      <td>3201.425720</td>\n",
       "      <td>839.295411</td>\n",
       "    </tr>\n",
       "    <tr>\n",
       "      <th>std</th>\n",
       "      <td>6529.384613</td>\n",
       "      <td>174.688413</td>\n",
       "      <td>2.543196</td>\n",
       "      <td>9957.392575</td>\n",
       "      <td>3604.826283</td>\n",
       "    </tr>\n",
       "    <tr>\n",
       "      <th>min</th>\n",
       "      <td>0.000000</td>\n",
       "      <td>1.000000</td>\n",
       "      <td>0.000000</td>\n",
       "      <td>0.000000</td>\n",
       "      <td>0.000000</td>\n",
       "    </tr>\n",
       "    <tr>\n",
       "      <th>25%</th>\n",
       "      <td>158.125000</td>\n",
       "      <td>2.291209</td>\n",
       "      <td>0.104412</td>\n",
       "      <td>192.812500</td>\n",
       "      <td>32.667500</td>\n",
       "    </tr>\n",
       "    <tr>\n",
       "      <th>50%</th>\n",
       "      <td>523.896878</td>\n",
       "      <td>7.500000</td>\n",
       "      <td>0.694639</td>\n",
       "      <td>631.522727</td>\n",
       "      <td>106.989394</td>\n",
       "    </tr>\n",
       "    <tr>\n",
       "      <th>75%</th>\n",
       "      <td>1967.663462</td>\n",
       "      <td>33.554167</td>\n",
       "      <td>1.252216</td>\n",
       "      <td>2395.720192</td>\n",
       "      <td>520.937628</td>\n",
       "    </tr>\n",
       "    <tr>\n",
       "      <th>max</th>\n",
       "      <td>77986.407407</td>\n",
       "      <td>2243.629630</td>\n",
       "      <td>20.962963</td>\n",
       "      <td>126007.888889</td>\n",
       "      <td>48021.481481</td>\n",
       "    </tr>\n",
       "  </tbody>\n",
       "</table>\n",
       "</div>"
      ],
      "text/plain": [
       "       call_duration  calls_count  is_missed_call  total_call_duration  \\\n",
       "count     290.000000   290.000000      290.000000           290.000000   \n",
       "mean     2362.130309    46.376650        1.301273          3201.425720   \n",
       "std      6529.384613   174.688413        2.543196          9957.392575   \n",
       "min         0.000000     1.000000        0.000000             0.000000   \n",
       "25%       158.125000     2.291209        0.104412           192.812500   \n",
       "50%       523.896878     7.500000        0.694639           631.522727   \n",
       "75%      1967.663462    33.554167        1.252216          2395.720192   \n",
       "max     77986.407407  2243.629630       20.962963        126007.888889   \n",
       "\n",
       "            waiting  \n",
       "count    290.000000  \n",
       "mean     839.295411  \n",
       "std     3604.826283  \n",
       "min        0.000000  \n",
       "25%       32.667500  \n",
       "50%      106.989394  \n",
       "75%      520.937628  \n",
       "max    48021.481481  "
      ]
     },
     "execution_count": 58,
     "metadata": {},
     "output_type": "execute_result"
    }
   ],
   "source": [
    "pivot_userids.describe()"
   ]
  },
  {
   "cell_type": "markdown",
   "metadata": {},
   "source": [
    "Разобьем клиентов на три группы по call_duration \tcalls_count \tis_missed_call \ttotal_call_duration \twaiting\n"
   ]
  },
  {
   "cell_type": "code",
   "execution_count": 59,
   "metadata": {},
   "outputs": [],
   "source": [
    "groupA=pivot_userids.query('call_duration<=158.125000 and calls_count<=2.291209 and is_missed_call<=0.104412 and total_call_duration<=192.812500 and waiting<=32.667500')"
   ]
  },
  {
   "cell_type": "code",
   "execution_count": 60,
   "metadata": {},
   "outputs": [],
   "source": [
    "groupB=pivot_userids.query('158.125000<call_duration<=523.896878 and 2.291209<calls_count<=7.500000 and 0.104412<is_missed_call<=0.694639 and 192.812500<total_call_duration<=631.522727 and 32.667500<waiting<=106.989394')"
   ]
  },
  {
   "cell_type": "code",
   "execution_count": 61,
   "metadata": {},
   "outputs": [],
   "source": [
    "groupC=pivot_userids.query('call_duration>523.896878 and calls_count>7.500000 and is_missed_call>0.694639 and total_call_duration>631.522727 and waiting>106.989394')"
   ]
  },
  {
   "cell_type": "markdown",
   "metadata": {},
   "source": [
    "Возьмем 99-перцентили ожидания и по ним выделим неэффективных операторов."
   ]
  },
  {
   "cell_type": "code",
   "execution_count": 62,
   "metadata": {
    "scrolled": true
   },
   "outputs": [
    {
     "data": {
      "text/plain": [
       "user_id                168583.00\n",
       "operator_id            962062.00\n",
       "calls_count                 3.19\n",
       "call_duration             496.82\n",
       "total_call_duration       514.62\n",
       "is_missed_call              0.00\n",
       "waiting                    61.14\n",
       "Name: 0.99, dtype: float64"
      ]
     },
     "execution_count": 62,
     "metadata": {},
     "output_type": "execute_result"
    }
   ],
   "source": [
    "grouped_by_day.query('user_id in @groupA.index').quantile(0.99)"
   ]
  },
  {
   "cell_type": "code",
   "execution_count": 63,
   "metadata": {
    "scrolled": true
   },
   "outputs": [
    {
     "data": {
      "text/plain": [
       "user_id                168221.00\n",
       "operator_id            965328.00\n",
       "calls_count                15.63\n",
       "call_duration            1707.58\n",
       "total_call_duration      1872.41\n",
       "is_missed_call              1.00\n",
       "waiting                   256.12\n",
       "Name: 0.99, dtype: float64"
      ]
     },
     "execution_count": 63,
     "metadata": {},
     "output_type": "execute_result"
    }
   ],
   "source": [
    "grouped_by_day.query('user_id in @groupB.index').quantile(0.99)"
   ]
  },
  {
   "cell_type": "code",
   "execution_count": 64,
   "metadata": {
    "scrolled": false
   },
   "outputs": [
    {
     "data": {
      "text/plain": [
       "user_id                168361.0\n",
       "operator_id            960950.0\n",
       "calls_count               170.0\n",
       "call_duration            7644.0\n",
       "total_call_duration      9943.3\n",
       "is_missed_call              2.0\n",
       "waiting                  3687.6\n",
       "Name: 0.99, dtype: float64"
      ]
     },
     "execution_count": 64,
     "metadata": {},
     "output_type": "execute_result"
    }
   ],
   "source": [
    "grouped_by_day.query('user_id in @groupC.index').quantile(0.99)"
   ]
  },
  {
   "cell_type": "code",
   "execution_count": 65,
   "metadata": {},
   "outputs": [],
   "source": [
    "groupA_non_eff=grouped_by_day.query('user_id in @groupA.index and direction==\"in\" and waiting>61.14')['operator_id'].to_frame()"
   ]
  },
  {
   "cell_type": "code",
   "execution_count": 66,
   "metadata": {},
   "outputs": [],
   "source": [
    "groupB_non_eff=grouped_by_day.query('user_id in @groupB.index  and direction==\"in\"  and waiting>256.12')['operator_id'].to_frame()"
   ]
  },
  {
   "cell_type": "code",
   "execution_count": 67,
   "metadata": {},
   "outputs": [],
   "source": [
    "groupC_non_eff=grouped_by_day.query('user_id in @groupC.index and direction==\"in\"  and waiting>3687.6')['operator_id'].to_frame()"
   ]
  },
  {
   "cell_type": "code",
   "execution_count": 68,
   "metadata": {},
   "outputs": [],
   "source": [
    "total=groupA_non_eff.append(groupB_non_eff).drop_duplicates().reset_index(drop=True)\n",
    "total=total.append(groupC_non_eff).drop_duplicates().reset_index(drop=True)"
   ]
  },
  {
   "cell_type": "code",
   "execution_count": 69,
   "metadata": {},
   "outputs": [
    {
     "data": {
      "text/html": [
       "<div>\n",
       "<style scoped>\n",
       "    .dataframe tbody tr th:only-of-type {\n",
       "        vertical-align: middle;\n",
       "    }\n",
       "\n",
       "    .dataframe tbody tr th {\n",
       "        vertical-align: top;\n",
       "    }\n",
       "\n",
       "    .dataframe thead th {\n",
       "        text-align: right;\n",
       "    }\n",
       "</style>\n",
       "<table border=\"1\" class=\"dataframe\">\n",
       "  <thead>\n",
       "    <tr style=\"text-align: right;\">\n",
       "      <th></th>\n",
       "      <th>operator_id</th>\n",
       "    </tr>\n",
       "  </thead>\n",
       "  <tbody>\n",
       "    <tr>\n",
       "      <th>0</th>\n",
       "      <td>886674</td>\n",
       "    </tr>\n",
       "    <tr>\n",
       "      <th>1</th>\n",
       "      <td>923944</td>\n",
       "    </tr>\n",
       "    <tr>\n",
       "      <th>2</th>\n",
       "      <td>902910</td>\n",
       "    </tr>\n",
       "  </tbody>\n",
       "</table>\n",
       "</div>"
      ],
      "text/plain": [
       "   operator_id\n",
       "0       886674\n",
       "1       923944\n",
       "2       902910"
      ]
     },
     "execution_count": 69,
     "metadata": {},
     "output_type": "execute_result"
    }
   ],
   "source": [
    "total"
   ]
  },
  {
   "cell_type": "markdown",
   "metadata": {},
   "source": [
    "---\n",
    "\n",
    "### Комментарий наставника\n",
    "\n",
    "Опять же, тут лучше работать с долями (ссылаюсь на клиентские особенности)\n",
    "\n",
    "---"
   ]
  },
  {
   "cell_type": "markdown",
   "metadata": {},
   "source": [
    "Неэффективными будем считать долю ожидания для входящих равной 99-перцентилю и для всех вызовов долю пропущенных вызовов равной 0.9."
   ]
  },
  {
   "cell_type": "code",
   "execution_count": 70,
   "metadata": {},
   "outputs": [],
   "source": [
    "missed_call_index=missed.query('percentage>0.9')['operator_id'].to_frame()"
   ]
  },
  {
   "cell_type": "code",
   "execution_count": 71,
   "metadata": {},
   "outputs": [],
   "source": [
    "#waiting_index=grouped_by_operator.query('direction==\"in\" and percentage_of_waiting>0.75')['operator_id'].to_frame()"
   ]
  },
  {
   "cell_type": "code",
   "execution_count": null,
   "metadata": {},
   "outputs": [],
   "source": []
  },
  {
   "cell_type": "code",
   "execution_count": 72,
   "metadata": {},
   "outputs": [],
   "source": [
    "#total_index=waiting_index.append(missed_call_index).drop_duplicates().reset_index(drop=True)"
   ]
  },
  {
   "cell_type": "code",
   "execution_count": 73,
   "metadata": {},
   "outputs": [],
   "source": [
    "total_index=missed_call_index.append(total).drop_duplicates().reset_index(drop=True)"
   ]
  },
  {
   "cell_type": "code",
   "execution_count": 74,
   "metadata": {},
   "outputs": [],
   "source": [
    "total_index_list=total_index['operator_id'].tolist()"
   ]
  },
  {
   "cell_type": "markdown",
   "metadata": {},
   "source": [
    "В total_index храним id всех операторов, которых сочли неэффективными."
   ]
  },
  {
   "cell_type": "code",
   "execution_count": 75,
   "metadata": {},
   "outputs": [
    {
     "data": {
      "text/plain": [
       "24"
      ]
     },
     "execution_count": 75,
     "metadata": {},
     "output_type": "execute_result"
    }
   ],
   "source": [
    "len(total_index_list)"
   ]
  },
  {
   "cell_type": "markdown",
   "metadata": {},
   "source": [
    "### Проверка статистических гипотез"
   ]
  },
  {
   "cell_type": "code",
   "execution_count": 76,
   "metadata": {},
   "outputs": [],
   "source": [
    "from scipy import stats as st"
   ]
  },
  {
   "cell_type": "markdown",
   "metadata": {},
   "source": [
    "Проверим гипотезу о том, что разница в ожидании между неэффективными операторами и остальными статистически значима.<br>Сформулируем нулевую и альтернативную гипотезы:<br>\n",
    "H0: ожидание не различается<br>\n",
    "H1: ожидание различается"
   ]
  },
  {
   "cell_type": "code",
   "execution_count": 77,
   "metadata": {},
   "outputs": [],
   "source": [
    "not_eff_waiting=grouped_by_day[grouped_by_day['operator_id'].isin(total_index_list)]['waiting']"
   ]
  },
  {
   "cell_type": "code",
   "execution_count": 78,
   "metadata": {},
   "outputs": [],
   "source": [
    "eff_waiting=grouped_by_day[~grouped_by_day['operator_id'].isin(total_index_list)]['waiting']"
   ]
  },
  {
   "cell_type": "code",
   "execution_count": 79,
   "metadata": {},
   "outputs": [
    {
     "name": "stdout",
     "output_type": "stream",
     "text": [
      "p-значение: 0.0\n",
      "Отвергаем нулевую гипотезу\n"
     ]
    }
   ],
   "source": [
    "alpha = .05\n",
    "results = st.ttest_ind(not_eff_waiting,eff_waiting,equal_var=False)\n",
    "print('p-значение:', results.pvalue)\n",
    "\n",
    "if (results.pvalue < alpha):\n",
    "    print(\"Отвергаем нулевую гипотезу\")\n",
    "else:\n",
    "    print(\"Не получилось отвергнуть нулевую гипотезу\")"
   ]
  },
  {
   "cell_type": "code",
   "execution_count": 80,
   "metadata": {},
   "outputs": [
    {
     "data": {
      "text/plain": [
       "21.555555555555557"
      ]
     },
     "execution_count": 80,
     "metadata": {},
     "output_type": "execute_result"
    }
   ],
   "source": [
    "not_eff_waiting.mean()"
   ]
  },
  {
   "cell_type": "code",
   "execution_count": 81,
   "metadata": {
    "scrolled": true
   },
   "outputs": [
    {
     "data": {
      "text/plain": [
       "319.30559627165786"
      ]
     },
     "execution_count": 81,
     "metadata": {},
     "output_type": "execute_result"
    }
   ],
   "source": [
    "eff_waiting.mean()"
   ]
  },
  {
   "cell_type": "markdown",
   "metadata": {},
   "source": [
    "У эффективных операторов ожидание больше, возможно это связано с тем, что они делают больше звонков."
   ]
  },
  {
   "cell_type": "markdown",
   "metadata": {},
   "source": [
    "Проверим гипотезу о том, что разница в количестве пропущенных звонков между неэффективными операторами и остальными статистически значима.<br>Сформулируем нулевую и альтернативную гипотезы:<br>\n",
    "H0: количество не различается<br>\n",
    "H1: количество различается"
   ]
  },
  {
   "cell_type": "code",
   "execution_count": 82,
   "metadata": {},
   "outputs": [
    {
     "name": "stdout",
     "output_type": "stream",
     "text": [
      "p-значение: 0.0004742429699066278\n",
      "Отвергаем нулевую гипотезу\n"
     ]
    }
   ],
   "source": [
    "not_eff_missed=grouped_by_day[grouped_by_day['operator_id'].isin(total_index_list)]['is_missed_call']\n",
    "eff_missed=grouped_by_day[~grouped_by_day['operator_id'].isin(total_index_list)]['is_missed_call']\n",
    "alpha = .05\n",
    "results = st.ttest_ind(not_eff_missed,eff_missed,equal_var=False)\n",
    "print('p-значение:', results.pvalue)\n",
    "\n",
    "if (results.pvalue < alpha):\n",
    "    print(\"Отвергаем нулевую гипотезу\")\n",
    "else:\n",
    "    print(\"Не получилось отвергнуть нулевую гипотезу\")"
   ]
  },
  {
   "cell_type": "code",
   "execution_count": 83,
   "metadata": {},
   "outputs": [
    {
     "data": {
      "text/plain": [
       "0.32098765432098764"
      ]
     },
     "execution_count": 83,
     "metadata": {},
     "output_type": "execute_result"
    }
   ],
   "source": [
    "not_eff_missed.mean()"
   ]
  },
  {
   "cell_type": "code",
   "execution_count": 84,
   "metadata": {
    "scrolled": true
   },
   "outputs": [
    {
     "data": {
      "text/plain": [
       "0.5220806554666065"
      ]
     },
     "execution_count": 84,
     "metadata": {},
     "output_type": "execute_result"
    }
   ],
   "source": [
    "eff_missed.mean()"
   ]
  },
  {
   "cell_type": "markdown",
   "metadata": {},
   "source": [
    "У эффективных операторов процент пропущенных звонков выше, возможно это связано с тем, что они делают больше звонков."
   ]
  },
  {
   "cell_type": "markdown",
   "metadata": {},
   "source": [
    "Проверим гипотезу о том, что разница в количестве звонков между неэффективными операторами и остальными статистически значима.<br>Сформулируем нулевую и альтернативную гипотезы:<br>\n",
    "H0: количестве не различается<br>\n",
    "H1: количество различается"
   ]
  },
  {
   "cell_type": "code",
   "execution_count": 85,
   "metadata": {},
   "outputs": [
    {
     "name": "stdout",
     "output_type": "stream",
     "text": [
      "p-значение: 0.0\n",
      "Отвергаем нулевую гипотезу\n"
     ]
    }
   ],
   "source": [
    "not_eff_count=grouped_by_day[grouped_by_day['operator_id'].isin(total_index_list)]['calls_count']\n",
    "eff_count=grouped_by_day[~grouped_by_day['operator_id'].isin(total_index_list)]['calls_count']\n",
    "alpha = .05\n",
    "results = st.ttest_ind(not_eff_count,eff_count,equal_var=False)\n",
    "print('p-значение:', results.pvalue)\n",
    "\n",
    "if (results.pvalue < alpha):\n",
    "    print(\"Отвергаем нулевую гипотезу\")\n",
    "else:\n",
    "    print(\"Не получилось отвергнуть нулевую гипотезу\")"
   ]
  },
  {
   "cell_type": "code",
   "execution_count": 86,
   "metadata": {},
   "outputs": [
    {
     "data": {
      "text/plain": [
       "1.2962962962962963"
      ]
     },
     "execution_count": 86,
     "metadata": {},
     "output_type": "execute_result"
    }
   ],
   "source": [
    "not_eff_count.mean()"
   ]
  },
  {
   "cell_type": "code",
   "execution_count": 87,
   "metadata": {
    "scrolled": false
   },
   "outputs": [
    {
     "data": {
      "text/plain": [
       "18.009997369113393"
      ]
     },
     "execution_count": 87,
     "metadata": {},
     "output_type": "execute_result"
    }
   ],
   "source": [
    "eff_count.mean()"
   ]
  },
  {
   "cell_type": "markdown",
   "metadata": {},
   "source": [
    "У эффективных операторов больше кол-во звонков."
   ]
  },
  {
   "cell_type": "markdown",
   "metadata": {},
   "source": [
    "### Итоговый вывод"
   ]
  },
  {
   "cell_type": "markdown",
   "metadata": {},
   "source": [
    "Мы провели анализ сервиса \"Ну позвони\" с целью выявления неэффективных операторов.<br>\n",
    "Обработали пропуски и провели исследовательский анализ данных.<br>Удалили выбросы из датасета.<br>Описали алгоритм удаления неэффективных операторов и выделили список таковых.<br>Также были проверены статистические гипотезы."
   ]
  },
  {
   "cell_type": "markdown",
   "metadata": {},
   "source": [
    "### Презентация"
   ]
  },
  {
   "cell_type": "markdown",
   "metadata": {},
   "source": [
    "https://yadi.sk/i/NZ2ReoC2H8hHQg"
   ]
  },
  {
   "cell_type": "markdown",
   "metadata": {},
   "source": [
    "### Ссылки"
   ]
  },
  {
   "cell_type": "markdown",
   "metadata": {},
   "source": [
    "https://pandas.pydata.org/\n",
    "<br>https://docs.scipy.org/doc/scipy/reference/generated/scipy.stats.ttest_ind.html\n",
    "<br>https://seaborn.pydata.org/"
   ]
  },
  {
   "cell_type": "markdown",
   "metadata": {},
   "source": [
    "---\n",
    "\n",
    "### Комментарий наставника\n",
    "\n",
    "Поздравляю с проделанной работой.\n",
    "\n",
    "Мне понравились твои идеи и решения, но здесь нехватило учёта клиентских особенностей, на которые я обратил внимание во время созвона.\n",
    "Также, учитывая метрики клиентов, оперируй долями. Так твои решения будет более независимы от изменения обстановки в бизнесе.\n",
    "\n",
    "Не забудь удалить дубликаты с самого начала. \n",
    "\n",
    "Доработай, пожалуйста, решение. Учитывая текущее исследование, тебе надо сделать совсем чуть-чуть. Успеха! :)\n",
    "\n",
    "---"
   ]
  }
 ],
 "metadata": {
  "kernelspec": {
   "display_name": "Python 3",
   "language": "python",
   "name": "python3"
  },
  "language_info": {
   "codemirror_mode": {
    "name": "ipython",
    "version": 3
   },
   "file_extension": ".py",
   "mimetype": "text/x-python",
   "name": "python",
   "nbconvert_exporter": "python",
   "pygments_lexer": "ipython3",
   "version": "3.7.6"
  }
 },
 "nbformat": 4,
 "nbformat_minor": 4
}
